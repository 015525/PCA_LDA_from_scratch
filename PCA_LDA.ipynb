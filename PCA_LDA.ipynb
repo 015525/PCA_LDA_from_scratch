{
  "cells": [
    {
      "cell_type": "code",
      "execution_count": 1,
      "id": "df234b7f",
      "metadata": {
        "id": "df234b7f"
      },
      "outputs": [],
      "source": [
        "import numpy as np\n",
        "import pandas as pd\n",
        "import matplotlib.pyplot as plt\n",
        "from tqdm import tqdm\n",
        "import os\n",
        "from sklearn.neighbors import KNeighborsClassifier as KNN\n",
        "from sklearn.metrics import accuracy_score, precision_score, recall_score, f1_score\n",
        "from sklearn.preprocessing import LabelEncoder"
      ]
    },
    {
      "cell_type": "markdown",
      "id": "44ae5397",
      "metadata": {
        "id": "44ae5397"
      },
      "source": [
        "# 1.Download the Dataset and Understand the Format (10 Points)"
      ]
    },
    {
      "cell_type": "markdown",
      "id": "9361de62",
      "metadata": {
        "id": "9361de62"
      },
      "source": [
        "# 2.Generate the Data Matrix and the Label vector (10 Points)"
      ]
    },
    {
      "cell_type": "code",
      "execution_count": 20,
      "id": "d4fdc85f",
      "metadata": {
        "colab": {
          "base_uri": "https://localhost:8080/",
          "height": 35
        },
        "id": "d4fdc85f",
        "outputId": "d4bf75ca-18b5-4321-dcd7-a44e3b9b84c3"
      },
      "outputs": [
        {
          "output_type": "execute_result",
          "data": {
            "text/plain": [
              "'/content'"
            ],
            "application/vnd.google.colaboratory.intrinsic+json": {
              "type": "string"
            }
          },
          "metadata": {},
          "execution_count": 20
        }
      ],
      "source": [
        "path = os.path.abspath(os.curdir)\n",
        "path"
      ]
    },
    {
      "cell_type": "code",
      "source": [
        "from google.colab import drive\n",
        "drive.mount('/content/drive')"
      ],
      "metadata": {
        "colab": {
          "base_uri": "https://localhost:8080/"
        },
        "id": "KOXZeoP3cHVt",
        "outputId": "2789b582-77ba-47ee-cf86-fea79e066d52"
      },
      "id": "KOXZeoP3cHVt",
      "execution_count": 21,
      "outputs": [
        {
          "output_type": "stream",
          "name": "stdout",
          "text": [
            "Drive already mounted at /content/drive; to attempt to forcibly remount, call drive.mount(\"/content/drive\", force_remount=True).\n"
          ]
        }
      ]
    },
    {
      "cell_type": "code",
      "execution_count": 22,
      "id": "9a4b35b4",
      "metadata": {
        "colab": {
          "base_uri": "https://localhost:8080/"
        },
        "id": "9a4b35b4",
        "outputId": "79341360-ae5a-4b66-f21b-e3b51dc21924"
      },
      "outputs": [
        {
          "output_type": "stream",
          "name": "stderr",
          "text": [
            "100%|██████████| 40/40 [00:00<00:00, 46.45it/s]\n"
          ]
        }
      ],
      "source": [
        "x_features = []\n",
        "y_labels = []\n",
        "\n",
        "folder_path = path + '/drive/MyDrive' + '/pca_lda_dataset'\n",
        "\n",
        "def import_data(folder_path):\n",
        "    for i in tqdm(os.listdir(folder_path)) :\n",
        "        class_path = folder_path + '/' + i\n",
        "        for j in os.listdir(class_path) :\n",
        "            img = plt.imread(os.path.join(class_path, j))\n",
        "            x_features.append(img)\n",
        "            y_labels.append(i)\n",
        "    return x_features, y_labels\n",
        "        \n",
        "    \n",
        "x_features, y_labels = import_data(folder_path)"
      ]
    },
    {
      "cell_type": "code",
      "execution_count": 23,
      "id": "0ba8977e",
      "metadata": {
        "colab": {
          "base_uri": "https://localhost:8080/"
        },
        "id": "0ba8977e",
        "outputId": "fddd6e98-12fd-4aea-c5aa-648281eb90c3"
      },
      "outputs": [
        {
          "output_type": "execute_result",
          "data": {
            "text/plain": [
              "array([[52, 47, 51, ..., 45, 48, 45],\n",
              "       [52, 50, 53, ..., 46, 46, 47],\n",
              "       [55, 44, 58, ..., 45, 48, 44],\n",
              "       ...,\n",
              "       [67, 68, 73, ..., 44, 35, 46],\n",
              "       [72, 62, 68, ..., 35, 39, 49],\n",
              "       [73, 68, 63, ..., 30, 34, 42]], dtype=uint8)"
            ]
          },
          "metadata": {},
          "execution_count": 23
        }
      ],
      "source": [
        "x_features[0]"
      ]
    },
    {
      "cell_type": "code",
      "execution_count": 24,
      "id": "410963e2",
      "metadata": {
        "colab": {
          "base_uri": "https://localhost:8080/",
          "height": 285
        },
        "id": "410963e2",
        "outputId": "d9328cf7-746b-4229-f379-1f8d71281640"
      },
      "outputs": [
        {
          "output_type": "stream",
          "name": "stdout",
          "text": [
            "s37\n"
          ]
        },
        {
          "output_type": "display_data",
          "data": {
            "text/plain": [
              "<Figure size 432x288 with 1 Axes>"
            ],
            "image/png": "[encoded data removed]"
          },
          "metadata": {
            "needs_background": "light"
          }
        }
      ],
      "source": [
        "plt.imshow(x_features[9])\n",
        "print(y_labels[9])"
      ]
    },
    {
      "cell_type": "code",
      "execution_count": 25,
      "id": "dd62c6de",
      "metadata": {
        "colab": {
          "base_uri": "https://localhost:8080/"
        },
        "id": "dd62c6de",
        "outputId": "3f6e8e0a-fad1-4c16-f9c0-65542d65052c"
      },
      "outputs": [
        {
          "output_type": "execute_result",
          "data": {
            "text/plain": [
              "(112, 92)"
            ]
          },
          "metadata": {},
          "execution_count": 25
        }
      ],
      "source": [
        "x_features[0].shape"
      ]
    },
    {
      "cell_type": "code",
      "execution_count": 26,
      "id": "2d48e91e",
      "metadata": {
        "colab": {
          "base_uri": "https://localhost:8080/"
        },
        "id": "2d48e91e",
        "outputId": "6958714e-6596-4ad1-fcac-7e2e84fc3f62"
      },
      "outputs": [
        {
          "output_type": "execute_result",
          "data": {
            "text/plain": [
              "numpy.ndarray"
            ]
          },
          "metadata": {},
          "execution_count": 26
        }
      ],
      "source": [
        "type(x_features[0])"
      ]
    },
    {
      "cell_type": "code",
      "execution_count": 27,
      "id": "ef48391c",
      "metadata": {
        "colab": {
          "base_uri": "https://localhost:8080/"
        },
        "id": "ef48391c",
        "outputId": "d020ae69-201f-4875-f718-7dbe9d0c640b"
      },
      "outputs": [
        {
          "output_type": "execute_result",
          "data": {
            "text/plain": [
              "array([52, 47, 51, ..., 30, 34, 42], dtype=uint8)"
            ]
          },
          "metadata": {},
          "execution_count": 27
        }
      ],
      "source": [
        "z = x_features[0].reshape(-1)\n",
        "z"
      ]
    },
    {
      "cell_type": "markdown",
      "id": "65aa5930",
      "metadata": {
        "id": "65aa5930"
      },
      "source": [
        "### a.Convert every image into a vector of 10304 values corresponding to the image size.\n",
        "### b.Stack the 400 vectorsinto a single Data Matrix D and generate the label vector y.The labels are integers from 1:40 corresponding to the subject id."
      ]
    },
    {
      "cell_type": "code",
      "execution_count": 28,
      "id": "1a5d84a2",
      "metadata": {
        "id": "1a5d84a2"
      },
      "outputs": [],
      "source": [
        "def flatten_images(x_features):\n",
        "    for i in range(len(x_features)) :\n",
        "        x_features[i] = x_features[i].reshape(-1) # we can use .ravel() also\n",
        "    return x_features\n",
        "\n",
        "x_features = flatten_images(x_features)"
      ]
    },
    {
      "cell_type": "code",
      "execution_count": 29,
      "id": "af2bea2c",
      "metadata": {
        "colab": {
          "base_uri": "https://localhost:8080/"
        },
        "id": "af2bea2c",
        "outputId": "2165aaf4-d63f-4ae0-e369-65d902c33f83"
      },
      "outputs": [
        {
          "output_type": "execute_result",
          "data": {
            "text/plain": [
              "(10304,)"
            ]
          },
          "metadata": {},
          "execution_count": 29
        }
      ],
      "source": [
        "x_features[0].shape"
      ]
    },
    {
      "cell_type": "code",
      "execution_count": 30,
      "id": "69efc55c",
      "metadata": {
        "colab": {
          "base_uri": "https://localhost:8080/"
        },
        "id": "69efc55c",
        "outputId": "a51a395d-f0cf-4074-b6ad-019cb15a4c97"
      },
      "outputs": [
        {
          "output_type": "execute_result",
          "data": {
            "text/plain": [
              "400"
            ]
          },
          "metadata": {},
          "execution_count": 30
        }
      ],
      "source": [
        "len(x_features)"
      ]
    },
    {
      "cell_type": "markdown",
      "id": "3d5907e9",
      "metadata": {
        "id": "3d5907e9"
      },
      "source": [
        "## 3.Split the Dataset into Training and Test sets (10 Points)\n",
        "### a.From the Data Matrix D400x10304 keep the odd rows for training and the even rows for testing. \n",
        "### This will give you 5 instances per person for training and 5 instancesper person for testing.\n",
        "### b.Split the labels vector accordingly."
      ]
    },
    {
      "cell_type": "code",
      "execution_count": 31,
      "id": "a8c81364",
      "metadata": {
        "colab": {
          "base_uri": "https://localhost:8080/"
        },
        "id": "a8c81364",
        "outputId": "db4eb6df-8856-4bca-b9b3-5382fb9c44f2"
      },
      "outputs": [
        {
          "output_type": "execute_result",
          "data": {
            "text/plain": [
              "array([30, 30, 30, 30, 30, 30, 30, 30, 30, 30, 38, 38, 38, 38, 38, 38, 38,\n",
              "       38, 38, 38, 18, 18, 18, 18, 18, 18, 18, 18, 18, 18, 31, 31, 31, 31,\n",
              "       31, 31, 31, 31, 31, 31, 14, 14, 14, 14, 14, 14, 14, 14, 14, 14, 32,\n",
              "       32, 32, 32, 32, 32, 32, 32, 32, 32, 13, 13, 13, 13, 13, 13, 13, 13,\n",
              "       13, 13,  8,  8,  8,  8,  8,  8,  8,  8,  8,  8, 21, 21, 21, 21, 21,\n",
              "       21, 21, 21, 21, 21,  7,  7,  7,  7,  7,  7,  7,  7,  7,  7,  4,  4,\n",
              "        4,  4,  4,  4,  4,  4,  4,  4, 25, 25, 25, 25, 25, 25, 25, 25, 25,\n",
              "       25, 15, 15, 15, 15, 15, 15, 15, 15, 15, 15, 27, 27, 27, 27, 27, 27,\n",
              "       27, 27, 27, 27, 37, 37, 37, 37, 37, 37, 37, 37, 37, 37,  6,  6,  6,\n",
              "        6,  6,  6,  6,  6,  6,  6, 35, 35, 35, 35, 35, 35, 35, 35, 35, 35,\n",
              "        1,  1,  1,  1,  1,  1,  1,  1,  1,  1, 11, 11, 11, 11, 11, 11, 11,\n",
              "       11, 11, 11, 20, 20, 20, 20, 20, 20, 20, 20, 20, 20, 19, 19, 19, 19,\n",
              "       19, 19, 19, 19, 19, 19,  5,  5,  5,  5,  5,  5,  5,  5,  5,  5, 23,\n",
              "       23, 23, 23, 23, 23, 23, 23, 23, 23, 12, 12, 12, 12, 12, 12, 12, 12,\n",
              "       12, 12,  0,  0,  0,  0,  0,  0,  0,  0,  0,  0, 17, 17, 17, 17, 17,\n",
              "       17, 17, 17, 17, 17,  9,  9,  9,  9,  9,  9,  9,  9,  9,  9, 22, 22,\n",
              "       22, 22, 22, 22, 22, 22, 22, 22, 34, 34, 34, 34, 34, 34, 34, 34, 34,\n",
              "       34, 29, 29, 29, 29, 29, 29, 29, 29, 29, 29, 26, 26, 26, 26, 26, 26,\n",
              "       26, 26, 26, 26, 39, 39, 39, 39, 39, 39, 39, 39, 39, 39, 36, 36, 36,\n",
              "       36, 36, 36, 36, 36, 36, 36, 28, 28, 28, 28, 28, 28, 28, 28, 28, 28,\n",
              "       16, 16, 16, 16, 16, 16, 16, 16, 16, 16,  2,  2,  2,  2,  2,  2,  2,\n",
              "        2,  2,  2, 33, 33, 33, 33, 33, 33, 33, 33, 33, 33, 10, 10, 10, 10,\n",
              "       10, 10, 10, 10, 10, 10, 24, 24, 24, 24, 24, 24, 24, 24, 24, 24,  3,\n",
              "        3,  3,  3,  3,  3,  3,  3,  3,  3])"
            ]
          },
          "metadata": {},
          "execution_count": 31
        }
      ],
      "source": [
        "def encode_labels(y_labels):\n",
        "    le = LabelEncoder()\n",
        "    y_label_coded = le.fit_transform(y_labels)\n",
        "    return y_label_coded, le\n",
        "    \n",
        "y_label_coded, le = encode_labels(y_labels)\n",
        "y_label_coded"
      ]
    },
    {
      "cell_type": "code",
      "execution_count": 32,
      "id": "53b86018",
      "metadata": {
        "id": "53b86018"
      },
      "outputs": [],
      "source": [
        "def split_data_even_odd(x_features, y_label_coded):\n",
        "    x_train = []\n",
        "    y_train = []\n",
        "    x_test = []\n",
        "    y_test = []\n",
        "    for i in range(len(x_features)) :\n",
        "        if i % 2 == 0 :\n",
        "            x_train.append(x_features[i])\n",
        "            y_train.append(y_label_coded[i])\n",
        "        else :\n",
        "            x_test.append(x_features[i])\n",
        "            y_test.append(y_label_coded[i])\n",
        "    return x_train, x_test, y_train, y_test\n",
        "\n",
        "x_train, x_test, y_train, y_test = split_data_even_odd(x_features, y_label_coded)"
      ]
    },
    {
      "cell_type": "code",
      "execution_count": 33,
      "id": "622234da",
      "metadata": {
        "colab": {
          "base_uri": "https://localhost:8080/"
        },
        "id": "622234da",
        "outputId": "b72e8376-64dc-4241-a1ef-600297e29309"
      },
      "outputs": [
        {
          "output_type": "stream",
          "name": "stdout",
          "text": [
            "[ True  True  True ...  True  True  True]\n",
            "[ True  True  True ...  True  True  True]\n",
            "True\n",
            "True\n"
          ]
        }
      ],
      "source": [
        "len(x_train)\n",
        "print(x_train[0] == x_features[0])\n",
        "print(x_train[60] == x_features[120])\n",
        "print(y_train[0] == y_label_coded[0])\n",
        "print(y_train[60] == y_label_coded[120])"
      ]
    },
    {
      "cell_type": "markdown",
      "id": "fd669972",
      "metadata": {
        "id": "fd669972"
      },
      "source": [
        "# 4.Classification using PCA(30 points)\n",
        "### a.Use the pseudo code below for computing the projection matrix U. Define thealpha= {0.8,0.85,0.9,0.95}\n",
        "### b.Project the training set, andtest sets separately using the same projection matrix."
      ]
    },
    {
      "cell_type": "code",
      "execution_count": null,
      "id": "9f8e0c95",
      "metadata": {
        "id": "9f8e0c95"
      },
      "outputs": [],
      "source": [
        "def get_eigens_and_meanVector(x_train): #must be numpy matrix\n",
        "    #compute mean\n",
        "    mean_vector = x_train.mean(axis = 1)\n",
        "    #center_data\n",
        "    x_train_cen = x_train - mean_vector\n",
        "    #compute covariance\n",
        "    cov = 1 / len(x_train_cen) * (np.dot(x_train_cen.T, x_train_cen))\n",
        "    #compute eigen vals and eigen vec\n",
        "    eig_val, eig_vec = np.linalg.eigh(cov)\n",
        "    return eig_val, eig_vec, mean_vector"
      ]
    },
    {
      "cell_type": "code",
      "execution_count": null,
      "id": "5cbe04c2",
      "metadata": {
        "id": "5cbe04c2"
      },
      "outputs": [],
      "source": [
        "def get_proj_mat(eig_val, eig_vec, alpha):\n",
        "    #fraction of total variance\n",
        "    fraction = []\n",
        "    eig_sum=0\n",
        "    eig_val_rev = eig_val[::-1]\n",
        "    eig_vec_rev = eig_vec[::-1]\n",
        "\n",
        "    for i in eig_val_rev :\n",
        "        eig_sum += i\n",
        "        fraction.append(eig_sum/eig_val_rev.sum())\n",
        "    fraction = np.array(fraction)\n",
        "    #choose dimensionality\n",
        "    fraction_trimed = fraction > alpha\n",
        "    smallest_ind = 0\n",
        "    for i in range(len(fraction_trimed)) :\n",
        "        if fraction_trimed[i] == True :\n",
        "            smallest_ind = i\n",
        "            break;\n",
        "    #reduced basis\n",
        "    proj_mat = eig_vec_rev[:smallest_ind+1]\n",
        "    return proj_mat"
      ]
    },
    {
      "cell_type": "code",
      "execution_count": null,
      "id": "ec3e7ae1",
      "metadata": {
        "id": "ec3e7ae1"
      },
      "outputs": [],
      "source": [
        "def center_data(x_train, x_test, mean_vector):\n",
        "    return x_train-mean_vector, x_test-mean_vector"
      ]
    },
    {
      "cell_type": "code",
      "execution_count": null,
      "id": "e3bae50d",
      "metadata": {
        "id": "e3bae50d"
      },
      "outputs": [],
      "source": [
        "def get_projected_mat(x_train, x_test, proj_mat):\n",
        "    x_train_proj = np.dot(x_train, proj_mat.T)\n",
        "    #x_test_cen = x_test- x_train_proj.mean(axis=1)\n",
        "    x_test_proj = np.dot(x_test, proj_mat.T)\n",
        "    return x_train_proj, x_test_proj"
      ]
    },
    {
      "cell_type": "markdown",
      "id": "3a6ec7e8",
      "metadata": {
        "id": "3a6ec7e8"
      },
      "source": [
        "### c.Use a simple classifier (first Nearest Neighbor to determine the class labels).\n",
        "### d.Report Accuracy for every value of alpha separately."
      ]
    },
    {
      "cell_type": "code",
      "execution_count": null,
      "id": "225f939a",
      "metadata": {
        "id": "225f939a"
      },
      "outputs": [],
      "source": [
        "def classify_KNN(x_train_proj, y_train, x_test_proj, y_test, alpha, neighbors=1):\n",
        "    knn = KNN(n_neighbors = neighbors)\n",
        "    knn.fit(x_train_proj, y_train)\n",
        "    y_pred = knn.predict(x_test_proj)\n",
        "    print(\"accuracy of alpha\",alpha,\"and neighbours =\", neighbors,\"is\", accuracy_score(y_pred, y_test))\n",
        "    print(\"precision of alpha\",alpha,\"and neighbours =\", neighbors,\"is\", precision_score(y_pred, y_test, average = 'weighted'))\n",
        "    print(\"recall of alpha\",alpha,\"and neighbours =\", neighbors,\"is\", recall_score(y_pred, y_test, average = 'weighted'))\n",
        "    print(\"f1 score of alpha\",alpha,\"and neighbours =\", neighbors,\"is\", f1_score(y_pred, y_test, average = 'weighted'))"
      ]
    },
    {
      "cell_type": "code",
      "execution_count": null,
      "id": "05548c3b",
      "metadata": {
        "id": "05548c3b"
      },
      "outputs": [],
      "source": [
        "x_train = np.matrix(x_train)\n",
        "x_test = np.matrix(x_test)\n",
        "y_train = np.array(y_train).reshape(200,1)\n",
        "y_test = np.array(y_test).reshape(200,1)\n",
        "eig_val, eig_vac, mean_vector = get_eigens_and_meanVector(x_train)"
      ]
    },
    {
      "cell_type": "code",
      "execution_count": null,
      "id": "f2f536ba",
      "metadata": {
        "id": "f2f536ba",
        "outputId": "7619ad6a-7ad0-498d-bec1-119384cbbc61"
      },
      "outputs": [
        {
          "name": "stderr",
          "output_type": "stream",
          "text": [
            "C:\\Users\\SourcesNet\\anaconda3\\lib\\site-packages\\sklearn\\utils\\validation.py:593: FutureWarning: np.matrix usage is deprecated in 1.0 and will raise a TypeError in 1.2. Please convert to a numpy array with np.asarray. For more information see: https://numpy.org/doc/stable/reference/generated/numpy.matrix.html\n",
            "  warnings.warn(\n",
            "C:\\Users\\SourcesNet\\anaconda3\\lib\\site-packages\\sklearn\\neighbors\\_classification.py:198: DataConversionWarning: A column-vector y was passed when a 1d array was expected. Please change the shape of y to (n_samples,), for example using ravel().\n",
            "  return self._fit(X, y)\n",
            "C:\\Users\\SourcesNet\\anaconda3\\lib\\site-packages\\sklearn\\utils\\validation.py:593: FutureWarning: np.matrix usage is deprecated in 1.0 and will raise a TypeError in 1.2. Please convert to a numpy array with np.asarray. For more information see: https://numpy.org/doc/stable/reference/generated/numpy.matrix.html\n",
            "  warnings.warn(\n",
            "C:\\Users\\SourcesNet\\anaconda3\\lib\\site-packages\\sklearn\\utils\\validation.py:593: FutureWarning: np.matrix usage is deprecated in 1.0 and will raise a TypeError in 1.2. Please convert to a numpy array with np.asarray. For more information see: https://numpy.org/doc/stable/reference/generated/numpy.matrix.html\n",
            "  warnings.warn(\n",
            "C:\\Users\\SourcesNet\\anaconda3\\lib\\site-packages\\sklearn\\neighbors\\_classification.py:198: DataConversionWarning: A column-vector y was passed when a 1d array was expected. Please change the shape of y to (n_samples,), for example using ravel().\n",
            "  return self._fit(X, y)\n",
            "C:\\Users\\SourcesNet\\anaconda3\\lib\\site-packages\\sklearn\\utils\\validation.py:593: FutureWarning: np.matrix usage is deprecated in 1.0 and will raise a TypeError in 1.2. Please convert to a numpy array with np.asarray. For more information see: https://numpy.org/doc/stable/reference/generated/numpy.matrix.html\n",
            "  warnings.warn(\n",
            "C:\\Users\\SourcesNet\\anaconda3\\lib\\site-packages\\sklearn\\utils\\validation.py:593: FutureWarning: np.matrix usage is deprecated in 1.0 and will raise a TypeError in 1.2. Please convert to a numpy array with np.asarray. For more information see: https://numpy.org/doc/stable/reference/generated/numpy.matrix.html\n",
            "  warnings.warn(\n",
            "C:\\Users\\SourcesNet\\anaconda3\\lib\\site-packages\\sklearn\\neighbors\\_classification.py:198: DataConversionWarning: A column-vector y was passed when a 1d array was expected. Please change the shape of y to (n_samples,), for example using ravel().\n",
            "  return self._fit(X, y)\n",
            "C:\\Users\\SourcesNet\\anaconda3\\lib\\site-packages\\sklearn\\utils\\validation.py:593: FutureWarning: np.matrix usage is deprecated in 1.0 and will raise a TypeError in 1.2. Please convert to a numpy array with np.asarray. For more information see: https://numpy.org/doc/stable/reference/generated/numpy.matrix.html\n",
            "  warnings.warn(\n"
          ]
        },
        {
          "name": "stdout",
          "output_type": "stream",
          "text": [
            "accuracy of alpha 0.8 and neighbours = 1 is 0.705\n",
            "precision of alpha 0.8 and neighbours = 1 is 0.76\n",
            "recall of alpha 0.8 and neighbours = 1 is 0.705\n",
            "f1 score of alpha 0.8 and neighbours = 1 is 0.7109758991008991\n",
            "________________________________________________________\n",
            "accuracy of alpha 0.85 and neighbours = 1 is 0.785\n",
            "precision of alpha 0.85 and neighbours = 1 is 0.8340000000000001\n",
            "recall of alpha 0.85 and neighbours = 1 is 0.785\n",
            "f1 score of alpha 0.85 and neighbours = 1 is 0.7848490982701509\n",
            "________________________________________________________\n",
            "accuracy of alpha 0.9 and neighbours = 1 is 0.86\n",
            "precision of alpha 0.9 and neighbours = 1 is 0.8959999999999999\n",
            "recall of alpha 0.9 and neighbours = 1 is 0.86\n",
            "f1 score of alpha 0.9 and neighbours = 1 is 0.8629725135975136\n",
            "________________________________________________________\n",
            "accuracy of alpha 0.95 and neighbours = 1 is 0.895\n",
            "precision of alpha 0.95 and neighbours = 1 is 0.9279999999999999\n",
            "recall of alpha 0.95 and neighbours = 1 is 0.895\n",
            "f1 score of alpha 0.95 and neighbours = 1 is 0.9020526695526695\n",
            "________________________________________________________\n"
          ]
        },
        {
          "name": "stderr",
          "output_type": "stream",
          "text": [
            "C:\\Users\\SourcesNet\\anaconda3\\lib\\site-packages\\sklearn\\utils\\validation.py:593: FutureWarning: np.matrix usage is deprecated in 1.0 and will raise a TypeError in 1.2. Please convert to a numpy array with np.asarray. For more information see: https://numpy.org/doc/stable/reference/generated/numpy.matrix.html\n",
            "  warnings.warn(\n",
            "C:\\Users\\SourcesNet\\anaconda3\\lib\\site-packages\\sklearn\\neighbors\\_classification.py:198: DataConversionWarning: A column-vector y was passed when a 1d array was expected. Please change the shape of y to (n_samples,), for example using ravel().\n",
            "  return self._fit(X, y)\n",
            "C:\\Users\\SourcesNet\\anaconda3\\lib\\site-packages\\sklearn\\utils\\validation.py:593: FutureWarning: np.matrix usage is deprecated in 1.0 and will raise a TypeError in 1.2. Please convert to a numpy array with np.asarray. For more information see: https://numpy.org/doc/stable/reference/generated/numpy.matrix.html\n",
            "  warnings.warn(\n"
          ]
        }
      ],
      "source": [
        "alphas = [0.8, 0.85, 0.9, 0.95]\n",
        "for alpha in alphas:\n",
        "    proj_mat = get_proj_mat(eig_val, eig_vec, alpha)\n",
        "    #x_train_cen, x_test_cen = center_data(x_train, x_test, mean_vector)\n",
        "    x_train_proj, x_test_proj = get_projected_mat(x_train, x_test, proj_mat)\n",
        "    classify_KNN(x_train_proj, y_train, x_test_proj, y_test, alpha, neighbors = 1)\n",
        "    print(\"________________________________________________________\")\n",
        "    "
      ]
    },
    {
      "cell_type": "markdown",
      "id": "34be5d5f",
      "metadata": {
        "id": "34be5d5f"
      },
      "source": [
        "### e.Can you find a relation between alpha and classification accuracy?"
      ]
    },
    {
      "cell_type": "markdown",
      "id": "b293ad34",
      "metadata": {
        "id": "b293ad34"
      },
      "source": [
        "### From the results it's obvious that by increasing the alpha the accuracy of the model increases\n",
        "#### This happens because the percentage of data loss from our data decrease so the accuracy of the model increases\n",
        "#### i.e. when increasing the alpha the new dims (eigen vectors) become more and more representative for the data"
      ]
    },
    {
      "cell_type": "markdown",
      "metadata": {
        "id": "lWfOAkdRW9jP"
      },
      "source": [
        "# 5. Classification Using LDA (30 Points)\n",
        "\n",
        "---\n",
        "\n",
        "\n"
      ],
      "id": "lWfOAkdRW9jP"
    },
    {
      "cell_type": "markdown",
      "source": [
        "## 1. Use the pseudo code below for LDA. "
      ],
      "metadata": {
        "id": "wkTTSCeytbis"
      },
      "id": "wkTTSCeytbis"
    },
    {
      "cell_type": "code",
      "execution_count": 39,
      "metadata": {
        "colab": {
          "base_uri": "https://localhost:8080/"
        },
        "id": "M1r-eJ8OhI5P",
        "outputId": "de5a876d-73b8-44b9-bfd6-81dc23de25d0"
      },
      "outputs": [
        {
          "output_type": "stream",
          "name": "stdout",
          "text": [
            "[ 0  1  2  3  4  5  6  7  8  9 10 11 12 13 14 15 16 17 18 19 20 21 22 23\n",
            " 24 25 26 27 28 29 30 31 32 33 34 35 36 37 38 39]\n",
            "[[ 52  47  51 ...  30  34  42]\n",
            " [ 55  47  50 ...  48  46  72]\n",
            " [121 122 121 ... 141 140 145]\n",
            " ...\n",
            " [111 110 111 ...  35  40  29]\n",
            " [105 104 104 ...  43  41  24]\n",
            " [100 105 103 ...  41  37  37]]\n"
          ]
        }
      ],
      "source": [
        "y_train = np.asarray(y_train)\n",
        "x_train = np.asarray(x_train)\n",
        "x_test = np.asarray(x_test)\n",
        "y_test = np.asarray(y_test)\n",
        "uniqueClasses = np.unique(y_train)\n",
        "print(uniqueClasses)\n",
        "print(x_train)"
      ],
      "id": "M1r-eJ8OhI5P"
    },
    {
      "cell_type": "markdown",
      "metadata": {
        "id": "0u4Qe5UHlYPI"
      },
      "source": [
        "Calculate the mean vector for every class Mu1,Mu2,...,Mu40."
      ],
      "id": "0u4Qe5UHlYPI"
    },
    {
      "cell_type": "code",
      "execution_count": 42,
      "metadata": {
        "colab": {
          "base_uri": "https://localhost:8080/"
        },
        "id": "txCwmaOhbz9Z",
        "outputId": "0a51ea1a-71ff-4c7f-a7ae-7ab0a6016f7f"
      },
      "outputs": [
        {
          "output_type": "stream",
          "name": "stdout",
          "text": [
            "(40, 10304)\n"
          ]
        }
      ],
      "source": [
        "meanVectors = []\n",
        "eachClassIndices = []\n",
        "for i in range(len(uniqueClasses)):\n",
        "  indices = np.where(y_train == uniqueClasses[i])\n",
        "  array = np.asarray(x_train[indices[0], :])\n",
        "  meanVectors.append(np.mean(array, axis=0))\n",
        "  eachClassIndices.append( indices[0])\n",
        "\n",
        "meanVectors = np.asarray(meanVectors)\n",
        "print(meanVectors.shape)"
      ],
      "id": "txCwmaOhbz9Z"
    },
    {
      "cell_type": "markdown",
      "metadata": {
        "id": "oXHxe7h7lonR"
      },
      "source": [
        "\n",
        "\n",
        "Calculate the mean vector for every class Mu1, Mu2, ..., Mu40."
      ],
      "id": "oXHxe7h7lonR"
    },
    {
      "cell_type": "code",
      "execution_count": 43,
      "metadata": {
        "colab": {
          "base_uri": "https://localhost:8080/"
        },
        "id": "52LrFvqZm4QR",
        "outputId": "f044378a-176a-492a-cba5-9f1f0d78a8c7"
      },
      "outputs": [
        {
          "output_type": "stream",
          "name": "stdout",
          "text": [
            "[87.31  87.23  87.795 ... 76.885 75.07  75.045]\n",
            "(10304,)\n"
          ]
        }
      ],
      "source": [
        "overAllMean = np.mean(x_train, axis=0)\n",
        "print(overAllMean)\n",
        "print(overAllMean.shape)"
      ],
      "id": "52LrFvqZm4QR"
    },
    {
      "cell_type": "markdown",
      "source": [
        "Replace $ \\ B $ matrix by $ \\ S_{b} $.\n",
        "   \n",
        "   $$ \\ S_{b} = \\sum_{k=1}^{m}n_k (\\mu_k - \\mu)(\\mu_k-\\mu)^T $$\n",
        "\n",
        "Here, m is the number of classes, μ is the overall sample mean, and $\\ n_{k} $ is the\n",
        "number of samples in the k-th class.\n"
      ],
      "metadata": {
        "id": "nVdJvz1QlcA_"
      },
      "id": "nVdJvz1QlcA_"
    },
    {
      "cell_type": "code",
      "execution_count": 44,
      "metadata": {
        "colab": {
          "base_uri": "https://localhost:8080/"
        },
        "id": "gLXEZxJllwPh",
        "outputId": "874c5ef9-feae-44c1-a791-7913829ba301"
      },
      "outputs": [
        {
          "output_type": "stream",
          "name": "stdout",
          "text": [
            "[[224669.18  222145.54  219306.31  ... -17007.27  -11703.54   -5150.79 ]\n",
            " [222145.54  220367.82  217184.23  ... -17471.11  -12621.02   -6197.87 ]\n",
            " [219306.31  217184.23  214637.795 ... -16600.915 -11336.73   -5078.955]\n",
            " ...\n",
            " [-17007.27  -17471.11  -16600.915 ... 319327.155 292212.01  289138.235]\n",
            " [-11703.54  -12621.02  -11336.73  ... 292212.01  274046.62  271223.57 ]\n",
            " [ -5150.79   -6197.87   -5078.955 ... 289138.235 271223.57  275195.795]]\n"
          ]
        }
      ],
      "source": [
        "sb = np.zeros([10304,10304])\n",
        "nk = 5\n",
        "for i in range(len(uniqueClasses)):\n",
        "  centered = np.asmatrix(meanVectors[i] - overAllMean)\n",
        "  sb += (nk * np.matmul(centered.T , centered) ) \n",
        "\n",
        "print(sb)"
      ],
      "id": "gLXEZxJllwPh"
    },
    {
      "cell_type": "markdown",
      "source": [
        "Calculating $ \\ S $ matrix"
      ],
      "metadata": {
        "id": "bCA4smpRnnPV"
      },
      "id": "bCA4smpRnnPV"
    },
    {
      "cell_type": "code",
      "execution_count": 45,
      "metadata": {
        "id": "yzTGg9qHxC6M",
        "colab": {
          "base_uri": "https://localhost:8080/"
        },
        "outputId": "b29fde2f-1201-4cf4-d068-f8b423161d51"
      },
      "outputs": [
        {
          "output_type": "stream",
          "name": "stdout",
          "text": [
            "[[ 24315.6  24838.2  25425.4 ...   2324.4   5223.2   7075. ]\n",
            " [ 24838.2  28065.6  27140.2 ...   2072.4   5211.8   7516.8]\n",
            " [ 25425.4  27140.2  28428.8 ...   1089.2   5066.6   7084.8]\n",
            " ...\n",
            " [  2324.4   2072.4   1089.2 ... 103697.2  79942.6  69799.8]\n",
            " [  5223.2   5211.8   5066.6 ...  79942.6  95566.4  85396.8]\n",
            " [  7075.    7516.8   7084.8 ...  69799.8  85396.8  98088.8]]\n"
          ]
        }
      ],
      "source": [
        "s = np.zeros([10304,10304])\n",
        "for j in range(len(eachClassIndices)):\n",
        "  D = np.asarray(x_train[eachClassIndices[j], :])\n",
        "  z = np.asarray(D) - meanVectors[j]\n",
        "  s += np.matmul(z.T , z)\n",
        "\n",
        "print(s)"
      ],
      "id": "yzTGg9qHxC6M"
    },
    {
      "cell_type": "markdown",
      "source": [
        "Calculating $ \\  S^{-1} $"
      ],
      "metadata": {
        "id": "Dp1Ad-owob7n"
      },
      "id": "Dp1Ad-owob7n"
    },
    {
      "cell_type": "code",
      "execution_count": 46,
      "metadata": {
        "id": "vEHCim9I1MKi"
      },
      "outputs": [],
      "source": [
        "s = np.asmatrix(s)\n",
        "sInv = np.linalg.inv(s)"
      ],
      "id": "vEHCim9I1MKi"
    },
    {
      "cell_type": "markdown",
      "source": [
        "Calculating eignValues and eignVectors $  of \\ S^{-1} B $"
      ],
      "metadata": {
        "id": "YhGQZL92ny_e"
      },
      "id": "YhGQZL92ny_e"
    },
    {
      "cell_type": "code",
      "execution_count": 47,
      "metadata": {
        "id": "55vq6Rz9uHvg"
      },
      "outputs": [],
      "source": [
        "eignValues, eignVectors = np.linalg.eigh(np.matmul(sInv, sb))"
      ],
      "id": "55vq6Rz9uHvg"
    },
    {
      "cell_type": "markdown",
      "source": [
        "### save eignvalues and eignvectors"
      ],
      "metadata": {
        "id": "2BpVxXUbpiSM"
      },
      "id": "2BpVxXUbpiSM"
    },
    {
      "cell_type": "code",
      "execution_count": 68,
      "metadata": {
        "id": "l6W755pauIc4",
        "colab": {
          "base_uri": "https://localhost:8080/"
        },
        "outputId": "23fd9c53-5685-40f6-d251-4a793564e448"
      },
      "outputs": [
        {
          "output_type": "stream",
          "name": "stdout",
          "text": [
            "[[ 1.11098921e+20  4.53785035e+19  2.69745546e+19 ... -2.72518116e+19\n",
            "  -4.55973957e+19 -1.10474660e+20]]\n",
            "**************\n",
            "[[-0.01469846 -0.01441934 -0.01374197 ... -0.0158041  -0.01645296\n",
            "  -0.01611369]\n",
            " [ 0.01556081  0.01555746  0.01422815 ... -0.01681347 -0.01736652\n",
            "  -0.01708421]\n",
            " [ 0.01803535  0.01939632  0.01862655 ...  0.01368257  0.01400183\n",
            "   0.0138483 ]\n",
            " ...\n",
            " [ 0.01740388  0.01864187  0.01805236 ... -0.01325374 -0.01417998\n",
            "  -0.01368755]\n",
            " [ 0.01547482  0.01558169  0.0141774  ...  0.01618776  0.01716497\n",
            "   0.01664375]\n",
            " [ 0.01435167  0.01404437  0.01339777 ... -0.01585036 -0.0166809\n",
            "  -0.01623991]]\n"
          ]
        }
      ],
      "source": [
        "print(eignValues)\n",
        "print(\"**************\")\n",
        "print(eignVectors)"
      ],
      "id": "l6W755pauIc4"
    },
    {
      "cell_type": "code",
      "source": [
        "kval = eignValues\n",
        "kvec = eignVectors"
      ],
      "metadata": {
        "id": "4FO3lMoPVhF9"
      },
      "execution_count": 69,
      "outputs": [],
      "id": "4FO3lMoPVhF9"
    },
    {
      "cell_type": "code",
      "source": [
        "eignValues = kval\n",
        "eignVectors = kvec\n",
        "print(eignVectors[0])"
      ],
      "metadata": {
        "colab": {
          "base_uri": "https://localhost:8080/"
        },
        "id": "50dbqiIfVoCK",
        "outputId": "7fd3db64-080c-47e7-eeef-abd671f86df0"
      },
      "execution_count": 70,
      "outputs": [
        {
          "output_type": "stream",
          "name": "stdout",
          "text": [
            "[[-0.01469846 -0.01441934 -0.01374197 ... -0.0158041  -0.01645296\n",
            "  -0.01611369]]\n"
          ]
        }
      ],
      "id": "50dbqiIfVoCK"
    },
    {
      "cell_type": "markdown",
      "source": [
        "### Continue \n",
        "Use 39 dominant eigenvectors instead of just one. You will have a projection matrix  $ \\ U_{39x10304} $\n"
      ],
      "metadata": {
        "id": "7iIrvdp7oRDS"
      },
      "id": "7iIrvdp7oRDS"
    },
    {
      "cell_type": "markdown",
      "source": [
        "Sorting Eigen vectors based on Eigen values"
      ],
      "metadata": {
        "id": "cBoG8h__rY5m"
      },
      "id": "cBoG8h__rY5m"
    },
    {
      "cell_type": "code",
      "source": [
        "idx = np.asmatrix(eignValues.argsort())\n",
        "idx = np.flip(idx)\n",
        "\n",
        "eignValues = eignValues[idx]\n",
        "eignVectors = eignVectors[idx,:].reshape(10304, 10304).T\n",
        "# print(eignValues)\n",
        "# print(eignVectors)"
      ],
      "metadata": {
        "id": "cEuBHSDgohkk"
      },
      "execution_count": 55,
      "outputs": [],
      "id": "cEuBHSDgohkk"
    },
    {
      "cell_type": "markdown",
      "source": [
        "Get The projection matrix using the 39 dominant eigen vectors"
      ],
      "metadata": {
        "id": "2tWIUQ07rpbt"
      },
      "id": "2tWIUQ07rpbt"
    },
    {
      "cell_type": "code",
      "source": [
        "projectionMatrix  = np.asmatrix(eignVectors[0:39,:])\n",
        "print(projectionMatrix)"
      ],
      "metadata": {
        "colab": {
          "base_uri": "https://localhost:8080/"
        },
        "id": "468OSZN9JV1a",
        "outputId": "224d96d0-e178-406c-ce16-77a81e736698"
      },
      "execution_count": 59,
      "outputs": [
        {
          "output_type": "stream",
          "name": "stdout",
          "text": [
            "[[-0.01469846 -0.01441934 -0.01374197 ... -0.0158041  -0.01645296\n",
            "  -0.01611369]\n",
            " [ 0.01556081  0.01555746  0.01422815 ... -0.01681347 -0.01736652\n",
            "  -0.01708421]\n",
            " [ 0.01803535  0.01939632  0.01862655 ...  0.01368257  0.01400183\n",
            "   0.0138483 ]\n",
            " ...\n",
            " [-0.05081592 -0.06618708 -0.05264023 ... -0.00192669 -0.00150035\n",
            "  -0.00162186]\n",
            " [ 0.00783399  0.00431286  0.00778132 ...  0.04285225  0.03392487\n",
            "   0.03962563]\n",
            " [ 0.02046168  0.0220529   0.01900019 ... -0.02172891 -0.01723565\n",
            "  -0.02009241]]\n"
          ]
        }
      ],
      "id": "468OSZN9JV1a"
    },
    {
      "cell_type": "markdown",
      "source": [
        "## 2. Projection\n",
        "Project the training set, and test sets separately using the same projection matrix U. You will have 39 dimensions in the new space.\n"
      ],
      "metadata": {
        "id": "iMQRIbiCsqE1"
      },
      "id": "iMQRIbiCsqE1"
    },
    {
      "cell_type": "code",
      "source": [
        "x_trainproj = np.matmul(projectionMatrix, x_train.T).T\n",
        "x_testproj = np.matmul(projectionMatrix, x_test.T).T\n",
        "print(x_trainproj.shape)"
      ],
      "metadata": {
        "colab": {
          "base_uri": "https://localhost:8080/"
        },
        "id": "VILo_gaSXzyj",
        "outputId": "36fad405-466e-4386-bef6-4bb1220f367b"
      },
      "execution_count": 62,
      "outputs": [
        {
          "output_type": "stream",
          "name": "stdout",
          "text": [
            "(200, 39)\n"
          ]
        }
      ],
      "id": "VILo_gaSXzyj"
    },
    {
      "cell_type": "markdown",
      "source": [
        "## 3. Use a simple classifier \n",
        "(first Nearest Neighbor to determine the class\n",
        "labels).\n"
      ],
      "metadata": {
        "id": "3pEdAy0Csm1n"
      },
      "id": "3pEdAy0Csm1n"
    },
    {
      "cell_type": "code",
      "source": [
        "neighbours = [1,3,5,7]\n",
        "def LDATuning():\n",
        "  for i in neighbours:\n",
        "    knn = KNN(n_neighbors = i)\n",
        "    knn.fit(np.asarray(x_trainproj), y_train.ravel())\n",
        "    y_pred = knn.predict(np.asarray(x_testproj))\n",
        "    print(accuracy_score(y_pred, y_test.ravel()))"
      ],
      "metadata": {
        "id": "Sldq8scdY8-T"
      },
      "execution_count": 76,
      "outputs": [],
      "id": "Sldq8scdY8-T"
    },
    {
      "cell_type": "code",
      "source": [
        "LDATuning()"
      ],
      "metadata": {
        "colab": {
          "base_uri": "https://localhost:8080/"
        },
        "id": "EebzERBwu9a6",
        "outputId": "62369339-572f-46de-c41b-befe79653cac"
      },
      "id": "EebzERBwu9a6",
      "execution_count": 77,
      "outputs": [
        {
          "output_type": "stream",
          "name": "stdout",
          "text": [
            "0.91\n",
            "0.85\n",
            "0.765\n",
            "0.675\n"
          ]
        }
      ]
    },
    {
      "cell_type": "markdown",
      "id": "8c57f741",
      "metadata": {
        "id": "8c57f741"
      },
      "source": [
        "# Draft"
      ]
    },
    {
      "cell_type": "code",
      "execution_count": null,
      "id": "2b9c5d21",
      "metadata": {
        "id": "2b9c5d21",
        "outputId": "90d62e5d-2d7c-4fb2-cbc3-28c9ddb2f93b"
      },
      "outputs": [
        {
          "data": {
            "text/plain": [
              "128.33821816770185"
            ]
          },
          "execution_count": 145,
          "metadata": {},
          "output_type": "execute_result"
        }
      ],
      "source": [
        "x_train = np.matrix(x_train)\n",
        "y_train = np.matrix(y_train)\n",
        "# compute the mean\n",
        "mean1 = x_train[0].mean()\n",
        "mean1"
      ]
    },
    {
      "cell_type": "code",
      "execution_count": null,
      "id": "1addc909",
      "metadata": {
        "id": "1addc909"
      },
      "outputs": [],
      "source": [
        "mean = x_train.mean(axis = 1)"
      ]
    },
    {
      "cell_type": "code",
      "execution_count": null,
      "id": "a9479fdf",
      "metadata": {
        "id": "a9479fdf",
        "outputId": "b8595ed8-2ce6-4db2-8292-491c82821811"
      },
      "outputs": [
        {
          "data": {
            "text/plain": [
              "matrix([[ 48,  49,  45, ...,  47,  46,  46],\n",
              "        [ 60,  60,  62, ...,  32,  34,  34],\n",
              "        [ 63,  53,  35, ...,  41,  10,  24],\n",
              "        ...,\n",
              "        [114, 110, 112, ...,  93,  89,  86],\n",
              "        [113, 112, 111, ...,  87,  87,  89],\n",
              "        [111, 114, 112, ...,  88,  86,  92]], dtype=uint8)"
            ]
          },
          "execution_count": 147,
          "metadata": {},
          "output_type": "execute_result"
        }
      ],
      "source": [
        "x_train"
      ]
    },
    {
      "cell_type": "code",
      "execution_count": null,
      "id": "24b88051",
      "metadata": {
        "id": "24b88051",
        "outputId": "49e02080-3f91-43ce-f881-0402b7ebab2f"
      },
      "outputs": [
        {
          "data": {
            "text/plain": [
              "matrix([[ -80.33821817,  -79.33821817,  -83.33821817, ...,  -81.33821817,\n",
              "          -82.33821817,  -82.33821817],\n",
              "        [ -87.98893634,  -87.98893634,  -85.98893634, ..., -115.98893634,\n",
              "         -113.98893634, -113.98893634],\n",
              "        [ -79.14926242,  -89.14926242, -107.14926242, ..., -101.14926242,\n",
              "         -132.14926242, -118.14926242],\n",
              "        ...,\n",
              "        [  -0.15130047,   -4.15130047,   -2.15130047, ...,  -21.15130047,\n",
              "          -25.15130047,  -28.15130047],\n",
              "        [  -1.60461957,   -2.60461957,   -3.60461957, ...,  -27.60461957,\n",
              "          -27.60461957,  -25.60461957],\n",
              "        [  -5.30619177,   -2.30619177,   -4.30619177, ...,  -28.30619177,\n",
              "          -30.30619177,  -24.30619177]])"
            ]
          },
          "execution_count": 148,
          "metadata": {},
          "output_type": "execute_result"
        }
      ],
      "source": [
        "x_train_cen = x_train - mean\n",
        "x_train_cen"
      ]
    },
    {
      "cell_type": "code",
      "execution_count": null,
      "id": "41849476",
      "metadata": {
        "id": "41849476",
        "outputId": "757977fa-4fee-40d7-c429-47c339cb5b58"
      },
      "outputs": [
        {
          "data": {
            "text/plain": [
              "matrix([[1976.34805901, 1960.26574729, 1969.31129174, ..., 1037.08246264,\n",
              "         1181.18927893, 1310.84550078],\n",
              "        [1960.26574729, 1959.59343556, 1962.30398001, ..., 1057.75015092,\n",
              "         1204.7469672 , 1326.33818906],\n",
              "        [1969.31129174, 1962.30398001, 1979.05952446, ..., 1048.89569537,\n",
              "         1203.27251165, 1330.21373351],\n",
              "        ...,\n",
              "        [1037.08246264, 1057.75015092, 1048.89569537, ..., 4275.79686627,\n",
              "         3921.82368256, 3816.33490441],\n",
              "        [1181.18927893, 1204.7469672 , 1203.27251165, ..., 3921.82368256,\n",
              "         3962.76549884, 3880.1317207 ],\n",
              "        [1310.84550078, 1326.33818906, 1330.21373351, ..., 3816.33490441,\n",
              "         3880.1317207 , 3979.69794255]])"
            ]
          },
          "execution_count": 149,
          "metadata": {},
          "output_type": "execute_result"
        }
      ],
      "source": [
        "cov = 1 / len(x_train_cen) * (np.dot(x_train_cen.T, x_train_cen))\n",
        "cov"
      ]
    },
    {
      "cell_type": "code",
      "execution_count": null,
      "id": "00ebf47d",
      "metadata": {
        "id": "00ebf47d",
        "outputId": "1faa4747-0ec9-4a4c-ef5f-a3686961285d"
      },
      "outputs": [
        {
          "data": {
            "text/plain": [
              "(10304, 10304)"
            ]
          },
          "execution_count": 150,
          "metadata": {},
          "output_type": "execute_result"
        }
      ],
      "source": [
        "cov.shape"
      ]
    },
    {
      "cell_type": "code",
      "execution_count": null,
      "id": "6f582da1",
      "metadata": {
        "id": "6f582da1",
        "outputId": "38d27f4e-98c6-4a6b-8372-92c0cf660534"
      },
      "outputs": [
        {
          "data": {
            "text/plain": [
              "array([-1.47865309e-09, -9.67008802e-10, -9.39322865e-10, ...,\n",
              "        1.09462153e+06,  2.49586831e+06,  1.03243713e+07])"
            ]
          },
          "execution_count": 151,
          "metadata": {},
          "output_type": "execute_result"
        }
      ],
      "source": [
        "eig_val, eig_vec = np.linalg.eigh(cov)\n",
        "eig_val"
      ]
    },
    {
      "cell_type": "code",
      "execution_count": null,
      "id": "4da0557c",
      "metadata": {
        "id": "4da0557c",
        "outputId": "63c4cd07-0ca7-439f-cccc-f37d0008aef3"
      },
      "outputs": [
        {
          "data": {
            "text/plain": [
              "matrix([[ 4.40999566e-13,  0.00000000e+00,  0.00000000e+00, ...,\n",
              "         -2.02077162e-02, -1.26709374e-02,  8.58581305e-03],\n",
              "        [ 2.39118447e-01, -1.18850190e-01,  2.50816148e-01, ...,\n",
              "         -2.01693608e-02, -1.26069511e-02,  8.63548751e-03],\n",
              "        [-2.73098009e-01,  2.33758767e-01, -8.76188788e-02, ...,\n",
              "         -2.03500603e-02, -1.28602767e-02,  8.54150292e-03],\n",
              "        ...,\n",
              "        [ 9.26977299e-03, -4.96540431e-03,  1.40951771e-02, ...,\n",
              "          9.62853691e-03, -2.51121222e-03,  1.28744880e-02],\n",
              "        [ 6.11347741e-03, -4.87901502e-05, -8.41145974e-04, ...,\n",
              "          7.10166309e-03, -2.96597121e-03,  1.35954397e-02],\n",
              "        [-1.43114475e-02, -2.73048956e-03, -9.79261541e-03, ...,\n",
              "          6.10567764e-03, -4.77243340e-03,  1.41162794e-02]])"
            ]
          },
          "execution_count": 152,
          "metadata": {},
          "output_type": "execute_result"
        }
      ],
      "source": [
        "eig_vec"
      ]
    },
    {
      "cell_type": "code",
      "execution_count": null,
      "id": "341c3033",
      "metadata": {
        "id": "341c3033"
      },
      "outputs": [],
      "source": [
        "fraction = []\n",
        "eig_sum=0\n",
        "eig_val_rev = eig_val[::-1]\n",
        "eig_vec_rev = eig_vec[::-1]\n",
        "\n",
        "for i in eig_val_rev :\n",
        "    eig_sum += i\n",
        "    fraction.append(eig_sum/eig_val_rev.sum())"
      ]
    },
    {
      "cell_type": "code",
      "execution_count": null,
      "id": "424a49da",
      "metadata": {
        "id": "424a49da",
        "outputId": "70154007-af45-4361-da3f-d40f2eeade04"
      },
      "outputs": [
        {
          "data": {
            "text/plain": [
              "10304"
            ]
          },
          "execution_count": 154,
          "metadata": {},
          "output_type": "execute_result"
        }
      ],
      "source": [
        "len(fraction)"
      ]
    },
    {
      "cell_type": "code",
      "execution_count": null,
      "id": "6d75781e",
      "metadata": {
        "id": "6d75781e",
        "outputId": "22dd9f46-1265-4cef-fb8b-0d5ad9ef34c9"
      },
      "outputs": [
        {
          "data": {
            "text/plain": [
              "1.0000000000000007"
            ]
          },
          "execution_count": 155,
          "metadata": {},
          "output_type": "execute_result"
        }
      ],
      "source": [
        "fraction[10303]"
      ]
    },
    {
      "cell_type": "code",
      "execution_count": null,
      "id": "4fd79597",
      "metadata": {
        "id": "4fd79597",
        "outputId": "8ef9b7bd-1efe-4a30-cdba-2298f51fc553"
      },
      "outputs": [
        {
          "name": "stdout",
          "output_type": "stream",
          "text": [
            "[0.43845898 0.54445437 0.59094114 ... 1.         1.         1.        ]\n"
          ]
        }
      ],
      "source": [
        "fraction = np.array(fraction)\n",
        "print(fraction)"
      ]
    },
    {
      "cell_type": "code",
      "execution_count": null,
      "id": "2d6019f5",
      "metadata": {
        "id": "2d6019f5",
        "outputId": "e6d2112d-428d-44f7-ec61-e610991ce2d4"
      },
      "outputs": [
        {
          "data": {
            "text/plain": [
              "array([False, False, False, ...,  True,  True,  True])"
            ]
          },
          "execution_count": 157,
          "metadata": {},
          "output_type": "execute_result"
        }
      ],
      "source": [
        "alpha = [0.8, 0.85, 0.9, 0.95]\n",
        "\n",
        "fraction_trimed = fraction > alpha[0]\n",
        "fraction_trimed"
      ]
    },
    {
      "cell_type": "code",
      "execution_count": null,
      "id": "b19fde82",
      "metadata": {
        "id": "b19fde82",
        "outputId": "6dbeaf6e-a5c1-417f-c257-9d74ef4c1b73"
      },
      "outputs": [
        {
          "data": {
            "text/plain": [
              "18"
            ]
          },
          "execution_count": 158,
          "metadata": {},
          "output_type": "execute_result"
        }
      ],
      "source": [
        "smallest_ind = 0\n",
        "\n",
        "for i in range(len(fraction_trimed)) :\n",
        "    if fraction_trimed[i] == True :\n",
        "        smallest_ind = i\n",
        "        break;\n",
        "\n",
        "smallest_ind"
      ]
    },
    {
      "cell_type": "code",
      "execution_count": null,
      "id": "7e5aca73",
      "metadata": {
        "id": "7e5aca73",
        "outputId": "d4adab0b-2aff-4eef-f821-69fa58867c41"
      },
      "outputs": [
        {
          "data": {
            "text/plain": [
              "matrix([[-1.43114475e-02, -2.73048956e-03, -9.79261541e-03, ...,\n",
              "          6.10567764e-03, -4.77243340e-03,  1.41162794e-02],\n",
              "        [ 6.11347741e-03, -4.87901502e-05, -8.41145974e-04, ...,\n",
              "          7.10166309e-03, -2.96597121e-03,  1.35954397e-02],\n",
              "        [ 9.26977299e-03, -4.96540431e-03,  1.40951771e-02, ...,\n",
              "          9.62853691e-03, -2.51121222e-03,  1.28744880e-02],\n",
              "        ...,\n",
              "        [ 5.02321565e-03, -7.07822858e-03, -1.24872236e-03, ...,\n",
              "          1.75339931e-02, -9.88204091e-03,  9.64316213e-03],\n",
              "        [-3.49250542e-03, -9.80585753e-04,  6.38016881e-03, ...,\n",
              "          1.79483112e-02, -8.50801606e-03,  9.31191296e-03],\n",
              "        [ 4.26091060e-03, -2.86357337e-03, -5.19720200e-03, ...,\n",
              "          1.34014312e-02, -7.67041412e-03,  9.26949872e-03]])"
            ]
          },
          "execution_count": 159,
          "metadata": {},
          "output_type": "execute_result"
        }
      ],
      "source": [
        "proj_mat = eig_vec_rev[:smallest_ind+1]\n",
        "proj_mat"
      ]
    },
    {
      "cell_type": "code",
      "execution_count": null,
      "id": "d2944189",
      "metadata": {
        "id": "d2944189",
        "outputId": "818ae3fd-448d-4ef2-81b8-f549fece66e8"
      },
      "outputs": [
        {
          "data": {
            "text/plain": [
              "(19, 10304)"
            ]
          },
          "execution_count": 160,
          "metadata": {},
          "output_type": "execute_result"
        }
      ],
      "source": [
        "proj_mat.shape"
      ]
    },
    {
      "cell_type": "code",
      "execution_count": null,
      "id": "bd3ad57c",
      "metadata": {
        "id": "bd3ad57c",
        "outputId": "c52e01b2-31f9-4112-97c6-1c8c76ae0adf"
      },
      "outputs": [
        {
          "data": {
            "text/plain": [
              "(200, 19)"
            ]
          },
          "execution_count": 161,
          "metadata": {},
          "output_type": "execute_result"
        }
      ],
      "source": [
        "x_train_proj = np.dot(x_train, proj_mat.T)\n",
        "x_test_proj = np.dot(x_test, proj_mat.T)\n",
        "x_train_proj.shape\n",
        "x_test_proj.shape"
      ]
    },
    {
      "cell_type": "code",
      "execution_count": null,
      "id": "dff3e1c1",
      "metadata": {
        "id": "dff3e1c1"
      },
      "outputs": [],
      "source": [
        "y_test = np.array(y_test)\n",
        "y_train = y_train.reshape(200,1)\n",
        "y_test = y_test.reshape(200,1)"
      ]
    },
    {
      "cell_type": "code",
      "execution_count": null,
      "id": "ae4433c6",
      "metadata": {
        "id": "ae4433c6",
        "outputId": "d5c72d9c-7173-4dfa-dbb8-babae4f1ca72"
      },
      "outputs": [
        {
          "name": "stdout",
          "output_type": "stream",
          "text": [
            "accuracy of alpha  = 0.8 and neighbours = 10 is 0.705\n"
          ]
        },
        {
          "name": "stderr",
          "output_type": "stream",
          "text": [
            "C:\\Users\\SourcesNet\\anaconda3\\lib\\site-packages\\sklearn\\utils\\validation.py:593: FutureWarning: np.matrix usage is deprecated in 1.0 and will raise a TypeError in 1.2. Please convert to a numpy array with np.asarray. For more information see: https://numpy.org/doc/stable/reference/generated/numpy.matrix.html\n",
            "  warnings.warn(\n",
            "C:\\Users\\SourcesNet\\anaconda3\\lib\\site-packages\\sklearn\\utils\\validation.py:593: FutureWarning: np.matrix usage is deprecated in 1.0 and will raise a TypeError in 1.2. Please convert to a numpy array with np.asarray. For more information see: https://numpy.org/doc/stable/reference/generated/numpy.matrix.html\n",
            "  warnings.warn(\n",
            "C:\\Users\\SourcesNet\\anaconda3\\lib\\site-packages\\sklearn\\neighbors\\_classification.py:198: DataConversionWarning: A column-vector y was passed when a 1d array was expected. Please change the shape of y to (n_samples,), for example using ravel().\n",
            "  return self._fit(X, y)\n",
            "C:\\Users\\SourcesNet\\anaconda3\\lib\\site-packages\\sklearn\\utils\\validation.py:593: FutureWarning: np.matrix usage is deprecated in 1.0 and will raise a TypeError in 1.2. Please convert to a numpy array with np.asarray. For more information see: https://numpy.org/doc/stable/reference/generated/numpy.matrix.html\n",
            "  warnings.warn(\n"
          ]
        }
      ],
      "source": [
        "knn = KNN(n_neighbors = 1)\n",
        "knn.fit(x_train_proj, y_train)\n",
        "y_pred = knn.predict(x_test_proj)\n",
        "print(\"accuracy of alpha  = 0.8 and neighbours = 10 is\", accuracy_score(y_pred, y_test))"
      ]
    }
  ],
  "metadata": {
    "kernelspec": {
      "display_name": "Python 3",
      "language": "python",
      "name": "python3"
    },
    "language_info": {
      "codemirror_mode": {
        "name": "ipython",
        "version": 3
      },
      "file_extension": ".py",
      "mimetype": "text/x-python",
      "name": "python",
      "nbconvert_exporter": "python",
      "pygments_lexer": "ipython3",
      "version": "3.8.8"
    },
    "colab": {
      "provenance": [],
      "collapsed_sections": [
        "65aa5930",
        "3d5907e9",
        "8c57f741"
      ]
    }
  },
  "nbformat": 4,
  "nbformat_minor": 5
}