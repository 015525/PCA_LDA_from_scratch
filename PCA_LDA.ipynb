{
  "cells": [
    {
      "cell_type": "code",
      "execution_count": null,
      "id": "df234b7f",
      "metadata": {
        "id": "df234b7f"
      },
      "outputs": [],
      "source": [
        "import numpy as np\n",
        "import pandas as pd\n",
        "import matplotlib.pyplot as plt\n",
        "from tqdm import tqdm\n",
        "import os\n",
        "from sklearn.neighbors import KNeighborsClassifier as KNN\n",
        "from sklearn.metrics import accuracy_score, precision_score, recall_score, f1_score\n",
        "from sklearn.preprocessing import LabelEncoder"
      ]
    },
    {
      "cell_type": "markdown",
      "id": "44ae5397",
      "metadata": {
        "id": "44ae5397"
      },
      "source": [
        "# 1.Download the Dataset and Understand the Format (10 Points)"
      ]
    },
    {
      "cell_type": "markdown",
      "id": "9361de62",
      "metadata": {
        "id": "9361de62"
      },
      "source": [
        "# 2.Generate the Data Matrix and the Label vector (10 Points)"
      ]
    },
    {
      "cell_type": "code",
      "execution_count": null,
      "id": "d4fdc85f",
      "metadata": {
        "colab": {
          "base_uri": "https://localhost:8080/",
          "height": 35
        },
        "id": "d4fdc85f",
        "outputId": "7ba02297-163d-4b44-b18a-f516a371fb63"
      },
      "outputs": [
        {
          "data": {
            "application/vnd.google.colaboratory.intrinsic+json": {
              "type": "string"
            },
            "text/plain": [
              "'/content'"
            ]
          },
          "execution_count": 2,
          "metadata": {},
          "output_type": "execute_result"
        }
      ],
      "source": [
        "path = os.path.abspath(os.curdir)\n",
        "path"
      ]
    },
    {
      "cell_type": "code",
      "execution_count": null,
      "id": "KOXZeoP3cHVt",
      "metadata": {
        "colab": {
          "base_uri": "https://localhost:8080/"
        },
        "id": "KOXZeoP3cHVt",
        "outputId": "b39e8fe0-b95a-4ffa-f6ca-e68e9fae3697"
      },
      "outputs": [
        {
          "name": "stdout",
          "output_type": "stream",
          "text": [
            "Mounted at /content/drive\n"
          ]
        }
      ],
      "source": [
        "from google.colab import drive\n",
        "drive.mount('/content/drive')"
      ]
    },
    {
      "cell_type": "code",
      "execution_count": null,
      "id": "9a4b35b4",
      "metadata": {
        "colab": {
          "base_uri": "https://localhost:8080/"
        },
        "id": "9a4b35b4",
        "outputId": "ddde82ac-bcd0-4259-fa62-624a4179dbbf"
      },
      "outputs": [
        {
          "name": "stderr",
          "output_type": "stream",
          "text": [
            "100%|██████████| 40/40 [01:08<00:00,  1.71s/it]\n"
          ]
        }
      ],
      "source": [
        "x_features = []\n",
        "y_labels = []\n",
        "\n",
        "folder_path = path + '/drive/MyDrive' + '/pca_lda_dataset'\n",
        "\n",
        "def import_data(folder_path):\n",
        "    for i in tqdm(os.listdir(folder_path)) :\n",
        "        class_path = folder_path + '/' + i\n",
        "        for j in os.listdir(class_path) :\n",
        "            img = plt.imread(os.path.join(class_path, j))\n",
        "            x_features.append(img)\n",
        "            y_labels.append(i)\n",
        "    return x_features, y_labels\n",
        "        \n",
        "    \n",
        "x_features, y_labels = import_data(folder_path)"
      ]
    },
    {
      "cell_type": "code",
      "execution_count": null,
      "id": "0ba8977e",
      "metadata": {
        "colab": {
          "base_uri": "https://localhost:8080/"
        },
        "id": "0ba8977e",
        "outputId": "2dca3f6f-f5e2-419e-af13-d8c4eaa365af"
      },
      "outputs": [
        {
          "data": {
            "text/plain": [
              "array([[52, 47, 51, ..., 45, 48, 45],\n",
              "       [52, 50, 53, ..., 46, 46, 47],\n",
              "       [55, 44, 58, ..., 45, 48, 44],\n",
              "       ...,\n",
              "       [67, 68, 73, ..., 44, 35, 46],\n",
              "       [72, 62, 68, ..., 35, 39, 49],\n",
              "       [73, 68, 63, ..., 30, 34, 42]], dtype=uint8)"
            ]
          },
          "execution_count": 5,
          "metadata": {},
          "output_type": "execute_result"
        }
      ],
      "source": [
        "x_features[0]"
      ]
    },
    {
      "cell_type": "code",
      "execution_count": null,
      "id": "410963e2",
      "metadata": {
        "colab": {
          "base_uri": "https://localhost:8080/",
          "height": 285
        },
        "id": "410963e2",
        "outputId": "b9054283-7625-42ce-b24b-1f88a46040a6"
      },
      "outputs": [
        {
          "name": "stdout",
          "output_type": "stream",
          "text": [
            "s37\n"
          ]
        },
        {
          "data": {
            "image/png": "[encoded data removed]",
            "text/plain": [
              "<Figure size 432x288 with 1 Axes>"
            ]
          },
          "metadata": {
            "needs_background": "light"
          },
          "output_type": "display_data"
        }
      ],
      "source": [
        "plt.imshow(x_features[9])\n",
        "print(y_labels[9])"
      ]
    },
    {
      "cell_type": "code",
      "execution_count": null,
      "id": "dd62c6de",
      "metadata": {
        "colab": {
          "base_uri": "https://localhost:8080/"
        },
        "id": "dd62c6de",
        "outputId": "b7908348-b6fc-44c8-8bc4-72efd275fab1"
      },
      "outputs": [
        {
          "data": {
            "text/plain": [
              "(112, 92)"
            ]
          },
          "execution_count": 7,
          "metadata": {},
          "output_type": "execute_result"
        }
      ],
      "source": [
        "x_features[0].shape"
      ]
    },
    {
      "cell_type": "code",
      "execution_count": null,
      "id": "2d48e91e",
      "metadata": {
        "colab": {
          "base_uri": "https://localhost:8080/"
        },
        "id": "2d48e91e",
        "outputId": "659c1e88-c849-4fe5-bc70-f41de2ebbb6a"
      },
      "outputs": [
        {
          "data": {
            "text/plain": [
              "numpy.ndarray"
            ]
          },
          "execution_count": 8,
          "metadata": {},
          "output_type": "execute_result"
        }
      ],
      "source": [
        "type(x_features[0])"
      ]
    },
    {
      "cell_type": "code",
      "execution_count": null,
      "id": "ef48391c",
      "metadata": {
        "colab": {
          "base_uri": "https://localhost:8080/"
        },
        "id": "ef48391c",
        "outputId": "ec8c818f-0478-40f7-fc80-7544d7c478bb"
      },
      "outputs": [
        {
          "data": {
            "text/plain": [
              "array([52, 47, 51, ..., 30, 34, 42], dtype=uint8)"
            ]
          },
          "execution_count": 9,
          "metadata": {},
          "output_type": "execute_result"
        }
      ],
      "source": [
        "z = x_features[0].reshape(-1)\n",
        "z"
      ]
    },
    {
      "cell_type": "markdown",
      "id": "65aa5930",
      "metadata": {
        "id": "65aa5930"
      },
      "source": [
        "### a.Convert every image into a vector of 10304 values corresponding to the image size.\n",
        "### b.Stack the 400 vectorsinto a single Data Matrix D and generate the label vector y.The labels are integers from 1:40 corresponding to the subject id."
      ]
    },
    {
      "cell_type": "code",
      "execution_count": null,
      "id": "1a5d84a2",
      "metadata": {
        "id": "1a5d84a2"
      },
      "outputs": [],
      "source": [
        "def flatten_images(x_features):\n",
        "    for i in range(len(x_features)) :\n",
        "        x_features[i] = x_features[i].reshape(-1) # we can use .ravel() also\n",
        "    return x_features\n",
        "\n",
        "x_features = flatten_images(x_features)"
      ]
    },
    {
      "cell_type": "code",
      "execution_count": null,
      "id": "af2bea2c",
      "metadata": {
        "colab": {
          "base_uri": "https://localhost:8080/"
        },
        "id": "af2bea2c",
        "outputId": "6ebedf7e-5a19-4882-8c49-afd0fd081915"
      },
      "outputs": [
        {
          "data": {
            "text/plain": [
              "(10304,)"
            ]
          },
          "execution_count": 11,
          "metadata": {},
          "output_type": "execute_result"
        }
      ],
      "source": [
        "x_features[0].shape"
      ]
    },
    {
      "cell_type": "code",
      "execution_count": null,
      "id": "69efc55c",
      "metadata": {
        "colab": {
          "base_uri": "https://localhost:8080/"
        },
        "id": "69efc55c",
        "outputId": "1be73bd1-f77d-4ac2-b572-50c15239b876"
      },
      "outputs": [
        {
          "data": {
            "text/plain": [
              "400"
            ]
          },
          "execution_count": 12,
          "metadata": {},
          "output_type": "execute_result"
        }
      ],
      "source": [
        "len(x_features)"
      ]
    },
    {
      "cell_type": "markdown",
      "id": "3d5907e9",
      "metadata": {
        "id": "3d5907e9"
      },
      "source": [
        "## 3.Split the Dataset into Training and Test sets (10 Points)\n",
        "### a.From the Data Matrix D400x10304 keep the odd rows for training and the even rows for testing. \n",
        "### This will give you 5 instances per person for training and 5 instancesper person for testing.\n",
        "### b.Split the labels vector accordingly."
      ]
    },
    {
      "cell_type": "code",
      "execution_count": null,
      "id": "a8c81364",
      "metadata": {
        "colab": {
          "base_uri": "https://localhost:8080/"
        },
        "id": "a8c81364",
        "outputId": "ea453a8a-bbf7-4110-d7c9-d4b69aa0901f"
      },
      "outputs": [
        {
          "data": {
            "text/plain": [
              "array([30, 30, 30, 30, 30, 30, 30, 30, 30, 30, 38, 38, 38, 38, 38, 38, 38,\n",
              "       38, 38, 38, 18, 18, 18, 18, 18, 18, 18, 18, 18, 18, 31, 31, 31, 31,\n",
              "       31, 31, 31, 31, 31, 31, 14, 14, 14, 14, 14, 14, 14, 14, 14, 14, 32,\n",
              "       32, 32, 32, 32, 32, 32, 32, 32, 32, 13, 13, 13, 13, 13, 13, 13, 13,\n",
              "       13, 13,  8,  8,  8,  8,  8,  8,  8,  8,  8,  8, 21, 21, 21, 21, 21,\n",
              "       21, 21, 21, 21, 21,  7,  7,  7,  7,  7,  7,  7,  7,  7,  7,  4,  4,\n",
              "        4,  4,  4,  4,  4,  4,  4,  4, 25, 25, 25, 25, 25, 25, 25, 25, 25,\n",
              "       25, 15, 15, 15, 15, 15, 15, 15, 15, 15, 15, 27, 27, 27, 27, 27, 27,\n",
              "       27, 27, 27, 27, 37, 37, 37, 37, 37, 37, 37, 37, 37, 37,  6,  6,  6,\n",
              "        6,  6,  6,  6,  6,  6,  6, 35, 35, 35, 35, 35, 35, 35, 35, 35, 35,\n",
              "        1,  1,  1,  1,  1,  1,  1,  1,  1,  1, 11, 11, 11, 11, 11, 11, 11,\n",
              "       11, 11, 11, 20, 20, 20, 20, 20, 20, 20, 20, 20, 20, 19, 19, 19, 19,\n",
              "       19, 19, 19, 19, 19, 19,  5,  5,  5,  5,  5,  5,  5,  5,  5,  5, 23,\n",
              "       23, 23, 23, 23, 23, 23, 23, 23, 23, 12, 12, 12, 12, 12, 12, 12, 12,\n",
              "       12, 12,  0,  0,  0,  0,  0,  0,  0,  0,  0,  0, 17, 17, 17, 17, 17,\n",
              "       17, 17, 17, 17, 17,  9,  9,  9,  9,  9,  9,  9,  9,  9,  9, 22, 22,\n",
              "       22, 22, 22, 22, 22, 22, 22, 22, 34, 34, 34, 34, 34, 34, 34, 34, 34,\n",
              "       34, 29, 29, 29, 29, 29, 29, 29, 29, 29, 29, 26, 26, 26, 26, 26, 26,\n",
              "       26, 26, 26, 26, 39, 39, 39, 39, 39, 39, 39, 39, 39, 39, 36, 36, 36,\n",
              "       36, 36, 36, 36, 36, 36, 36, 28, 28, 28, 28, 28, 28, 28, 28, 28, 28,\n",
              "       16, 16, 16, 16, 16, 16, 16, 16, 16, 16,  2,  2,  2,  2,  2,  2,  2,\n",
              "        2,  2,  2, 33, 33, 33, 33, 33, 33, 33, 33, 33, 33, 10, 10, 10, 10,\n",
              "       10, 10, 10, 10, 10, 10, 24, 24, 24, 24, 24, 24, 24, 24, 24, 24,  3,\n",
              "        3,  3,  3,  3,  3,  3,  3,  3,  3])"
            ]
          },
          "execution_count": 13,
          "metadata": {},
          "output_type": "execute_result"
        }
      ],
      "source": [
        "def encode_labels(y_labels):\n",
        "    le = LabelEncoder()\n",
        "    y_label_coded = le.fit_transform(y_labels)\n",
        "    return y_label_coded, le\n",
        "    \n",
        "y_label_coded, le = encode_labels(y_labels)\n",
        "y_label_coded"
      ]
    },
    {
      "cell_type": "code",
      "execution_count": null,
      "id": "53b86018",
      "metadata": {
        "id": "53b86018"
      },
      "outputs": [],
      "source": [
        "def split_data_even_odd(x_features, y_label_coded):\n",
        "    x_train = []\n",
        "    y_train = []\n",
        "    x_test = []\n",
        "    y_test = []\n",
        "    for i in range(len(x_features)) :\n",
        "        if i % 2 == 0 :\n",
        "            x_train.append(x_features[i])\n",
        "            y_train.append(y_label_coded[i])\n",
        "        else :\n",
        "            x_test.append(x_features[i])\n",
        "            y_test.append(y_label_coded[i])\n",
        "    return x_train, x_test, y_train, y_test\n",
        "\n",
        "x_train, x_test, y_train, y_test = split_data_even_odd(x_features, y_label_coded)"
      ]
    },
    {
      "cell_type": "code",
      "execution_count": null,
      "id": "622234da",
      "metadata": {
        "colab": {
          "base_uri": "https://localhost:8080/"
        },
        "id": "622234da",
        "outputId": "7f6e0fd7-c608-4842-dbd3-f56ee0847d29"
      },
      "outputs": [
        {
          "name": "stdout",
          "output_type": "stream",
          "text": [
            "[ True  True  True ...  True  True  True]\n",
            "[ True  True  True ...  True  True  True]\n",
            "True\n",
            "True\n"
          ]
        }
      ],
      "source": [
        "len(x_train)\n",
        "print(x_train[0] == x_features[0])\n",
        "print(x_train[60] == x_features[120])\n",
        "print(y_train[0] == y_label_coded[0])\n",
        "print(y_train[60] == y_label_coded[120])"
      ]
    },
    {
      "cell_type": "markdown",
      "id": "fd669972",
      "metadata": {
        "id": "fd669972"
      },
      "source": [
        "# 4.Classification using PCA(30 points)\n",
        "### a.Use the pseudo code below for computing the projection matrix U. Define thealpha= {0.8,0.85,0.9,0.95}\n",
        "### b.Project the training set, andtest sets separately using the same projection matrix."
      ]
    },
    {
      "cell_type": "code",
      "execution_count": null,
      "id": "9f8e0c95",
      "metadata": {
        "id": "9f8e0c95"
      },
      "outputs": [],
      "source": [
        "def get_eigens_and_meanVector(x_train): #must be numpy matrix\n",
        "    #compute mean\n",
        "    mean_vector = x_train.mean(axis = 1)\n",
        "    #center_data\n",
        "    x_train_cen = x_train - mean_vector\n",
        "    #compute covariance\n",
        "    cov = 1 / len(x_train_cen) * (np.dot(x_train_cen.T, x_train_cen))\n",
        "    #compute eigen vals and eigen vec\n",
        "    eig_val, eig_vec = np.linalg.eigh(cov)\n",
        "    return eig_val, eig_vec, mean_vector"
      ]
    },
    {
      "cell_type": "code",
      "execution_count": null,
      "id": "5cbe04c2",
      "metadata": {
        "id": "5cbe04c2"
      },
      "outputs": [],
      "source": [
        "def get_proj_mat(eig_val, eig_vec, alpha):\n",
        "    #fraction of total variance\n",
        "    fraction = []\n",
        "    eig_sum=0\n",
        "    eig_val_rev = eig_val[::-1]\n",
        "    eig_vec_rev = eig_vec[::-1]\n",
        "\n",
        "    for i in eig_val_rev :\n",
        "        eig_sum += i\n",
        "        fraction.append(eig_sum/eig_val_rev.sum())\n",
        "    fraction = np.array(fraction)\n",
        "    #choose dimensionality\n",
        "    fraction_trimed = fraction > alpha\n",
        "    smallest_ind = 0\n",
        "    for i in range(len(fraction_trimed)) :\n",
        "        if fraction_trimed[i] == True :\n",
        "            smallest_ind = i\n",
        "            break;\n",
        "    #reduced basis\n",
        "    proj_mat = eig_vec_rev[:smallest_ind+1]\n",
        "    return proj_mat"
      ]
    },
    {
      "cell_type": "code",
      "execution_count": null,
      "id": "ec3e7ae1",
      "metadata": {
        "id": "ec3e7ae1"
      },
      "outputs": [],
      "source": [
        "def center_data(x_train, x_test, mean_vector):\n",
        "    return x_train-mean_vector, x_test-mean_vector"
      ]
    },
    {
      "cell_type": "code",
      "execution_count": null,
      "id": "e3bae50d",
      "metadata": {
        "id": "e3bae50d"
      },
      "outputs": [],
      "source": [
        "def get_projected_mat(x_train, x_test, proj_mat):\n",
        "    x_train_proj = np.dot(x_train, proj_mat.T)\n",
        "    #x_test_cen = x_test- x_train_proj.mean(axis=1)\n",
        "    x_test_proj = np.dot(x_test, proj_mat.T)\n",
        "    return x_train_proj, x_test_proj"
      ]
    },
    {
      "cell_type": "markdown",
      "id": "3a6ec7e8",
      "metadata": {
        "id": "3a6ec7e8"
      },
      "source": [
        "### c.Use a simple classifier (first Nearest Neighbor to determine the class labels).\n",
        "### d.Report Accuracy for every value of alpha separately."
      ]
    },
    {
      "cell_type": "code",
      "execution_count": null,
      "id": "225f939a",
      "metadata": {
        "id": "225f939a"
      },
      "outputs": [],
      "source": [
        "def classify_KNN(x_train_proj, y_train, x_test_proj, y_test, alpha, neighbors=1):\n",
        "    knn = KNN(n_neighbors = neighbors)\n",
        "    knn.fit(x_train_proj, y_train)\n",
        "    y_pred = knn.predict(x_test_proj)\n",
        "    print(\"accuracy of alpha\",alpha,\"and neighbours =\", neighbors,\"is\", accuracy_score(y_pred, y_test))\n",
        "    print(\"precision of alpha\",alpha,\"and neighbours =\", neighbors,\"is\", precision_score(y_pred, y_test, average = 'weighted'))\n",
        "    print(\"recall of alpha\",alpha,\"and neighbours =\", neighbors,\"is\", recall_score(y_pred, y_test, average = 'weighted'))\n",
        "    print(\"f1 score of alpha\",alpha,\"and neighbours =\", neighbors,\"is\", f1_score(y_pred, y_test, average = 'weighted'))"
      ]
    },
    {
      "cell_type": "code",
      "execution_count": null,
      "id": "05548c3b",
      "metadata": {
        "id": "05548c3b"
      },
      "outputs": [],
      "source": [
        "x_train = np.matrix(x_train)\n",
        "x_test = np.matrix(x_test)\n",
        "y_train = np.array(y_train).reshape(200,1)\n",
        "y_test = np.array(y_test).reshape(200,1)\n",
        "eig_val, eig_vac, mean_vector = get_eigens_and_meanVector(x_train)"
      ]
    },
    {
      "cell_type": "code",
      "execution_count": null,
      "id": "f2f536ba",
      "metadata": {
        "id": "f2f536ba",
        "outputId": "7619ad6a-7ad0-498d-bec1-119384cbbc61"
      },
      "outputs": [
        {
          "name": "stderr",
          "output_type": "stream",
          "text": [
            "C:\\Users\\SourcesNet\\anaconda3\\lib\\site-packages\\sklearn\\utils\\validation.py:593: FutureWarning: np.matrix usage is deprecated in 1.0 and will raise a TypeError in 1.2. Please convert to a numpy array with np.asarray. For more information see: https://numpy.org/doc/stable/reference/generated/numpy.matrix.html\n",
            "  warnings.warn(\n",
            "C:\\Users\\SourcesNet\\anaconda3\\lib\\site-packages\\sklearn\\neighbors\\_classification.py:198: DataConversionWarning: A column-vector y was passed when a 1d array was expected. Please change the shape of y to (n_samples,), for example using ravel().\n",
            "  return self._fit(X, y)\n",
            "C:\\Users\\SourcesNet\\anaconda3\\lib\\site-packages\\sklearn\\utils\\validation.py:593: FutureWarning: np.matrix usage is deprecated in 1.0 and will raise a TypeError in 1.2. Please convert to a numpy array with np.asarray. For more information see: https://numpy.org/doc/stable/reference/generated/numpy.matrix.html\n",
            "  warnings.warn(\n",
            "C:\\Users\\SourcesNet\\anaconda3\\lib\\site-packages\\sklearn\\utils\\validation.py:593: FutureWarning: np.matrix usage is deprecated in 1.0 and will raise a TypeError in 1.2. Please convert to a numpy array with np.asarray. For more information see: https://numpy.org/doc/stable/reference/generated/numpy.matrix.html\n",
            "  warnings.warn(\n",
            "C:\\Users\\SourcesNet\\anaconda3\\lib\\site-packages\\sklearn\\neighbors\\_classification.py:198: DataConversionWarning: A column-vector y was passed when a 1d array was expected. Please change the shape of y to (n_samples,), for example using ravel().\n",
            "  return self._fit(X, y)\n",
            "C:\\Users\\SourcesNet\\anaconda3\\lib\\site-packages\\sklearn\\utils\\validation.py:593: FutureWarning: np.matrix usage is deprecated in 1.0 and will raise a TypeError in 1.2. Please convert to a numpy array with np.asarray. For more information see: https://numpy.org/doc/stable/reference/generated/numpy.matrix.html\n",
            "  warnings.warn(\n",
            "C:\\Users\\SourcesNet\\anaconda3\\lib\\site-packages\\sklearn\\utils\\validation.py:593: FutureWarning: np.matrix usage is deprecated in 1.0 and will raise a TypeError in 1.2. Please convert to a numpy array with np.asarray. For more information see: https://numpy.org/doc/stable/reference/generated/numpy.matrix.html\n",
            "  warnings.warn(\n",
            "C:\\Users\\SourcesNet\\anaconda3\\lib\\site-packages\\sklearn\\neighbors\\_classification.py:198: DataConversionWarning: A column-vector y was passed when a 1d array was expected. Please change the shape of y to (n_samples,), for example using ravel().\n",
            "  return self._fit(X, y)\n",
            "C:\\Users\\SourcesNet\\anaconda3\\lib\\site-packages\\sklearn\\utils\\validation.py:593: FutureWarning: np.matrix usage is deprecated in 1.0 and will raise a TypeError in 1.2. Please convert to a numpy array with np.asarray. For more information see: https://numpy.org/doc/stable/reference/generated/numpy.matrix.html\n",
            "  warnings.warn(\n"
          ]
        },
        {
          "name": "stdout",
          "output_type": "stream",
          "text": [
            "accuracy of alpha 0.8 and neighbours = 1 is 0.705\n",
            "precision of alpha 0.8 and neighbours = 1 is 0.76\n",
            "recall of alpha 0.8 and neighbours = 1 is 0.705\n",
            "f1 score of alpha 0.8 and neighbours = 1 is 0.7109758991008991\n",
            "________________________________________________________\n",
            "accuracy of alpha 0.85 and neighbours = 1 is 0.785\n",
            "precision of alpha 0.85 and neighbours = 1 is 0.8340000000000001\n",
            "recall of alpha 0.85 and neighbours = 1 is 0.785\n",
            "f1 score of alpha 0.85 and neighbours = 1 is 0.7848490982701509\n",
            "________________________________________________________\n",
            "accuracy of alpha 0.9 and neighbours = 1 is 0.86\n",
            "precision of alpha 0.9 and neighbours = 1 is 0.8959999999999999\n",
            "recall of alpha 0.9 and neighbours = 1 is 0.86\n",
            "f1 score of alpha 0.9 and neighbours = 1 is 0.8629725135975136\n",
            "________________________________________________________\n",
            "accuracy of alpha 0.95 and neighbours = 1 is 0.895\n",
            "precision of alpha 0.95 and neighbours = 1 is 0.9279999999999999\n",
            "recall of alpha 0.95 and neighbours = 1 is 0.895\n",
            "f1 score of alpha 0.95 and neighbours = 1 is 0.9020526695526695\n",
            "________________________________________________________\n"
          ]
        },
        {
          "name": "stderr",
          "output_type": "stream",
          "text": [
            "C:\\Users\\SourcesNet\\anaconda3\\lib\\site-packages\\sklearn\\utils\\validation.py:593: FutureWarning: np.matrix usage is deprecated in 1.0 and will raise a TypeError in 1.2. Please convert to a numpy array with np.asarray. For more information see: https://numpy.org/doc/stable/reference/generated/numpy.matrix.html\n",
            "  warnings.warn(\n",
            "C:\\Users\\SourcesNet\\anaconda3\\lib\\site-packages\\sklearn\\neighbors\\_classification.py:198: DataConversionWarning: A column-vector y was passed when a 1d array was expected. Please change the shape of y to (n_samples,), for example using ravel().\n",
            "  return self._fit(X, y)\n",
            "C:\\Users\\SourcesNet\\anaconda3\\lib\\site-packages\\sklearn\\utils\\validation.py:593: FutureWarning: np.matrix usage is deprecated in 1.0 and will raise a TypeError in 1.2. Please convert to a numpy array with np.asarray. For more information see: https://numpy.org/doc/stable/reference/generated/numpy.matrix.html\n",
            "  warnings.warn(\n"
          ]
        }
      ],
      "source": [
        "alphas = [0.8, 0.85, 0.9, 0.95]\n",
        "for alpha in alphas:\n",
        "    proj_mat = get_proj_mat(eig_val, eig_vec, alpha)\n",
        "    #x_train_cen, x_test_cen = center_data(x_train, x_test, mean_vector)\n",
        "    x_train_proj, x_test_proj = get_projected_mat(x_train, x_test, proj_mat)\n",
        "    classify_KNN(x_train_proj, y_train, x_test_proj, y_test, alpha, neighbors = 1)\n",
        "    print(\"________________________________________________________\")\n",
        "    "
      ]
    },
    {
      "cell_type": "markdown",
      "id": "34be5d5f",
      "metadata": {
        "id": "34be5d5f"
      },
      "source": [
        "### e.Can you find a relation between alpha and classification accuracy?"
      ]
    },
    {
      "cell_type": "markdown",
      "id": "b293ad34",
      "metadata": {
        "id": "b293ad34"
      },
      "source": [
        "### From the results it's obvious that by increasing the alpha the accuracy of the model increases\n",
        "#### This happens because the percentage of data loss from our data decrease so the accuracy of the model increases\n",
        "#### i.e. when increasing the alpha the new dims (eigen vectors) become more and more representative for the data"
      ]
    },
    {
      "cell_type": "markdown",
      "id": "lWfOAkdRW9jP",
      "metadata": {
        "id": "lWfOAkdRW9jP"
      },
      "source": [
        "# 5. Classification Using LDA (30 Points)\n",
        "\n",
        "---\n",
        "\n",
        "\n"
      ]
    },
    {
      "cell_type": "markdown",
      "id": "wkTTSCeytbis",
      "metadata": {
        "id": "wkTTSCeytbis"
      },
      "source": [
        "## 1. Use the pseudo code below for LDA. "
      ]
    },
    {
      "cell_type": "code",
      "execution_count": null,
      "id": "M1r-eJ8OhI5P",
      "metadata": {
        "colab": {
          "base_uri": "https://localhost:8080/"
        },
        "id": "M1r-eJ8OhI5P",
        "outputId": "a0528e39-fd8a-43ab-ead5-f3920da0addf"
      },
      "outputs": [
        {
          "name": "stdout",
          "output_type": "stream",
          "text": [
            "[ 0  1  2  3  4  5  6  7  8  9 10 11 12 13 14 15 16 17 18 19 20 21 22 23\n",
            " 24 25 26 27 28 29 30 31 32 33 34 35 36 37 38 39]\n",
            "[[ 52  47  51 ...  30  34  42]\n",
            " [ 55  47  50 ...  48  46  72]\n",
            " [121 122 121 ... 141 140 145]\n",
            " ...\n",
            " [111 110 111 ...  35  40  29]\n",
            " [105 104 104 ...  43  41  24]\n",
            " [100 105 103 ...  41  37  37]]\n"
          ]
        }
      ],
      "source": [
        "y_train = np.asarray(y_train)\n",
        "x_train = np.asarray(x_train)\n",
        "x_test = np.asarray(x_test)\n",
        "y_test = np.asarray(y_test)\n",
        "uniqueClasses = np.unique(y_train)\n",
        "print(uniqueClasses)\n",
        "print(x_train)"
      ]
    },
    {
      "cell_type": "markdown",
      "id": "0u4Qe5UHlYPI",
      "metadata": {
        "id": "0u4Qe5UHlYPI"
      },
      "source": [
        "Calculate the mean vector for every class Mu1,Mu2,...,Mu40."
      ]
    },
    {
      "cell_type": "code",
      "execution_count": null,
      "id": "txCwmaOhbz9Z",
      "metadata": {
        "colab": {
          "base_uri": "https://localhost:8080/"
        },
        "id": "txCwmaOhbz9Z",
        "outputId": "20001f41-64ae-4374-b31e-c3adee6a72ec"
      },
      "outputs": [
        {
          "name": "stdout",
          "output_type": "stream",
          "text": [
            "(40, 10304)\n"
          ]
        }
      ],
      "source": [
        "meanVectors = []\n",
        "eachClassIndices = []\n",
        "for i in range(len(uniqueClasses)):\n",
        "  indices = np.where(y_train == uniqueClasses[i])\n",
        "  array = np.asarray(x_train[indices[0], :])\n",
        "  meanVectors.append(np.mean(array, axis=0))\n",
        "  eachClassIndices.append( indices[0])\n",
        "\n",
        "meanVectors = np.asarray(meanVectors)\n",
        "print(meanVectors.shape)"
      ]
    },
    {
      "cell_type": "markdown",
      "id": "oXHxe7h7lonR",
      "metadata": {
        "id": "oXHxe7h7lonR"
      },
      "source": [
        "\n",
        "\n",
        "Calculate the mean vector for every class Mu1, Mu2, ..., Mu40."
      ]
    },
    {
      "cell_type": "code",
      "execution_count": null,
      "id": "52LrFvqZm4QR",
      "metadata": {
        "colab": {
          "base_uri": "https://localhost:8080/"
        },
        "id": "52LrFvqZm4QR",
        "outputId": "c3d30387-a0b5-4967-c83a-d279d9519f11"
      },
      "outputs": [
        {
          "name": "stdout",
          "output_type": "stream",
          "text": [
            "[87.31  87.23  87.795 ... 76.885 75.07  75.045]\n",
            "(10304,)\n"
          ]
        }
      ],
      "source": [
        "overAllMean = np.mean(x_train, axis=0)\n",
        "print(overAllMean)\n",
        "print(overAllMean.shape)"
      ]
    },
    {
      "cell_type": "markdown",
      "id": "nVdJvz1QlcA_",
      "metadata": {
        "id": "nVdJvz1QlcA_"
      },
      "source": [
        "Replace $ \\ B $ matrix by $ \\ S_{b} $.\n",
        "   \n",
        "   $$ \\ S_{b} = \\sum_{k=1}^{m}n_k (\\mu_k - \\mu)(\\mu_k-\\mu)^T $$\n",
        "\n",
        "Here, m is the number of classes, μ is the overall sample mean, and $\\ n_{k} $ is the\n",
        "number of samples in the k-th class.\n"
      ]
    },
    {
      "cell_type": "code",
      "execution_count": null,
      "id": "gLXEZxJllwPh",
      "metadata": {
        "colab": {
          "base_uri": "https://localhost:8080/"
        },
        "id": "gLXEZxJllwPh",
        "outputId": "206801d3-db37-4549-c695-18a23d75277e"
      },
      "outputs": [
        {
          "name": "stdout",
          "output_type": "stream",
          "text": [
            "[[224669.18  222145.54  219306.31  ... -17007.27  -11703.54   -5150.79 ]\n",
            " [222145.54  220367.82  217184.23  ... -17471.11  -12621.02   -6197.87 ]\n",
            " [219306.31  217184.23  214637.795 ... -16600.915 -11336.73   -5078.955]\n",
            " ...\n",
            " [-17007.27  -17471.11  -16600.915 ... 319327.155 292212.01  289138.235]\n",
            " [-11703.54  -12621.02  -11336.73  ... 292212.01  274046.62  271223.57 ]\n",
            " [ -5150.79   -6197.87   -5078.955 ... 289138.235 271223.57  275195.795]]\n"
          ]
        }
      ],
      "source": [
        "sb = np.zeros([10304,10304])\n",
        "nk = len(eachClassIndices[0])\n",
        "for i in range(len(uniqueClasses)):\n",
        "  centered = np.asmatrix(meanVectors[i] - overAllMean)\n",
        "  sb += (nk * np.matmul(centered.T , centered) ) \n",
        "\n",
        "print(sb)"
      ]
    },
    {
      "cell_type": "markdown",
      "id": "bCA4smpRnnPV",
      "metadata": {
        "id": "bCA4smpRnnPV"
      },
      "source": [
        "Calculating $ \\ S $ matrix"
      ]
    },
    {
      "cell_type": "code",
      "execution_count": null,
      "id": "yzTGg9qHxC6M",
      "metadata": {
        "colab": {
          "base_uri": "https://localhost:8080/"
        },
        "id": "yzTGg9qHxC6M",
        "outputId": "89a31d92-1ab0-4fe5-c32d-28de7dc2732a"
      },
      "outputs": [
        {
          "name": "stdout",
          "output_type": "stream",
          "text": [
            "[[ 24315.6  24838.2  25425.4 ...   2324.4   5223.2   7075. ]\n",
            " [ 24838.2  28065.6  27140.2 ...   2072.4   5211.8   7516.8]\n",
            " [ 25425.4  27140.2  28428.8 ...   1089.2   5066.6   7084.8]\n",
            " ...\n",
            " [  2324.4   2072.4   1089.2 ... 103697.2  79942.6  69799.8]\n",
            " [  5223.2   5211.8   5066.6 ...  79942.6  95566.4  85396.8]\n",
            " [  7075.    7516.8   7084.8 ...  69799.8  85396.8  98088.8]]\n"
          ]
        }
      ],
      "source": [
        "s = np.zeros([10304,10304])\n",
        "for j in range(len(eachClassIndices)):\n",
        "  D = np.asarray(x_train[eachClassIndices[j], :])\n",
        "  z = np.asarray(D) - meanVectors[j]\n",
        "  s += np.matmul(z.T , z)\n",
        "\n",
        "print(s)"
      ]
    },
    {
      "cell_type": "markdown",
      "id": "Dp1Ad-owob7n",
      "metadata": {
        "id": "Dp1Ad-owob7n"
      },
      "source": [
        "Calculating $ \\  S^{-1} $"
      ]
    },
    {
      "cell_type": "code",
      "execution_count": null,
      "id": "vEHCim9I1MKi",
      "metadata": {
        "id": "vEHCim9I1MKi"
      },
      "outputs": [],
      "source": [
        "s = np.asmatrix(s)\n",
        "sInv = np.linalg.inv(s)"
      ]
    },
    {
      "cell_type": "markdown",
      "id": "YhGQZL92ny_e",
      "metadata": {
        "id": "YhGQZL92ny_e"
      },
      "source": [
        "Calculating eignValues and eignVectors $  of \\ S^{-1} B $"
      ]
    },
    {
      "cell_type": "code",
      "execution_count": null,
      "id": "55vq6Rz9uHvg",
      "metadata": {
        "id": "55vq6Rz9uHvg"
      },
      "outputs": [],
      "source": [
        "eignValues, eignVectors = np.linalg.eigh(np.matmul(sInv, sb))"
      ]
    },
    {
      "cell_type": "markdown",
      "id": "2BpVxXUbpiSM",
      "metadata": {
        "id": "2BpVxXUbpiSM"
      },
      "source": [
        "### save eignvalues and eignvectors"
      ]
    },
    {
      "cell_type": "code",
      "execution_count": null,
      "id": "l6W755pauIc4",
      "metadata": {
        "colab": {
          "base_uri": "https://localhost:8080/"
        },
        "id": "l6W755pauIc4",
        "outputId": "b7eca6fc-d396-4111-f635-844051d11fd1"
      },
      "outputs": [
        {
          "name": "stdout",
          "output_type": "stream",
          "text": [
            "[-1.10474660e+20 -4.55973957e+19 -2.72518116e+19 ...  2.69745546e+19\n",
            "  4.53785035e+19  1.11098921e+20]\n",
            "**************\n",
            "[[-0.01611369 -0.01708421  0.0138483  ... -0.01368755  0.01664375\n",
            "  -0.01623991]\n",
            " [-0.01645296 -0.01736652  0.01400183 ... -0.01417998  0.01716497\n",
            "  -0.0166809 ]\n",
            " [-0.0158041  -0.01681347  0.01368257 ... -0.01325374  0.01618776\n",
            "  -0.01585036]\n",
            " ...\n",
            " [-0.01374197  0.01422815  0.01862655 ...  0.01805236  0.0141774\n",
            "   0.01339777]\n",
            " [-0.01441934  0.01555746  0.01939632 ...  0.01864187  0.01558169\n",
            "   0.01404437]\n",
            " [-0.01469846  0.01556081  0.01803535 ...  0.01740388  0.01547482\n",
            "   0.01435167]]\n"
          ]
        }
      ],
      "source": [
        "print(eignValues)\n",
        "print(\"**************\")\n",
        "print(eignVectors)"
      ]
    },
    {
      "cell_type": "code",
      "execution_count": null,
      "id": "4FO3lMoPVhF9",
      "metadata": {
        "id": "4FO3lMoPVhF9"
      },
      "outputs": [],
      "source": [
        "kval = eignValues\n",
        "kvec = eignVectors"
      ]
    },
    {
      "cell_type": "code",
      "execution_count": null,
      "id": "50dbqiIfVoCK",
      "metadata": {
        "colab": {
          "base_uri": "https://localhost:8080/"
        },
        "id": "50dbqiIfVoCK",
        "outputId": "2e61e7dc-4488-4606-a1f0-626be273d31f"
      },
      "outputs": [
        {
          "name": "stdout",
          "output_type": "stream",
          "text": [
            "[[-0.01611369 -0.01708421  0.0138483  ... -0.01368755  0.01664375\n",
            "  -0.01623991]]\n"
          ]
        }
      ],
      "source": [
        "eignValues = kval\n",
        "eignVectors = kvec\n",
        "print(eignVectors[0])"
      ]
    },
    {
      "cell_type": "markdown",
      "id": "7iIrvdp7oRDS",
      "metadata": {
        "id": "7iIrvdp7oRDS"
      },
      "source": [
        "### Continue \n",
        "Use 39 dominant eigenvectors instead of just one. You will have a projection matrix  $ \\ U_{39x10304} $\n"
      ]
    },
    {
      "cell_type": "markdown",
      "id": "cBoG8h__rY5m",
      "metadata": {
        "id": "cBoG8h__rY5m"
      },
      "source": [
        "Sorting Eigen vectors based on Eigen values"
      ]
    },
    {
      "cell_type": "code",
      "execution_count": null,
      "id": "cEuBHSDgohkk",
      "metadata": {
        "id": "cEuBHSDgohkk"
      },
      "outputs": [],
      "source": [
        "idx = np.asmatrix(eignValues.argsort())\n",
        "idx = np.flip(idx)\n",
        "\n",
        "eignValues = eignValues[idx]\n",
        "eignVectors = eignVectors[idx,:].reshape(10304, 10304).T\n",
        "# print(eignValues)\n",
        "# print(eignVectors)"
      ]
    },
    {
      "cell_type": "markdown",
      "id": "2tWIUQ07rpbt",
      "metadata": {
        "id": "2tWIUQ07rpbt"
      },
      "source": [
        "Get The projection matrix using the 39 dominant eigen vectors"
      ]
    },
    {
      "cell_type": "code",
      "execution_count": null,
      "id": "468OSZN9JV1a",
      "metadata": {
        "colab": {
          "base_uri": "https://localhost:8080/"
        },
        "id": "468OSZN9JV1a",
        "outputId": "eae66840-00ca-4645-faf1-412a4e6e5de5"
      },
      "outputs": [
        {
          "name": "stdout",
          "output_type": "stream",
          "text": [
            "[[-0.01469846 -0.01441934 -0.01374197 ... -0.0158041  -0.01645296\n",
            "  -0.01611369]\n",
            " [ 0.01556081  0.01555746  0.01422815 ... -0.01681347 -0.01736652\n",
            "  -0.01708421]\n",
            " [ 0.01803535  0.01939632  0.01862655 ...  0.01368257  0.01400183\n",
            "   0.0138483 ]\n",
            " ...\n",
            " [-0.05081592 -0.06618708 -0.05264023 ... -0.00192669 -0.00150035\n",
            "  -0.00162186]\n",
            " [ 0.00783399  0.00431286  0.00778132 ...  0.04285225  0.03392487\n",
            "   0.03962563]\n",
            " [ 0.02046168  0.0220529   0.01900019 ... -0.02172891 -0.01723565\n",
            "  -0.02009241]]\n"
          ]
        }
      ],
      "source": [
        "projectionMatrix  = np.asmatrix(eignVectors[0:39,:])\n",
        "print(projectionMatrix)"
      ]
    },
    {
      "cell_type": "markdown",
      "id": "iMQRIbiCsqE1",
      "metadata": {
        "id": "iMQRIbiCsqE1"
      },
      "source": [
        "## 2. Projection\n",
        "Project the training set, and test sets separately using the same projection matrix U. You will have 39 dimensions in the new space.\n"
      ]
    },
    {
      "cell_type": "code",
      "execution_count": null,
      "id": "VILo_gaSXzyj",
      "metadata": {
        "colab": {
          "base_uri": "https://localhost:8080/"
        },
        "id": "VILo_gaSXzyj",
        "outputId": "105e8111-17b9-40f1-ffa8-c38e345e778e"
      },
      "outputs": [
        {
          "name": "stdout",
          "output_type": "stream",
          "text": [
            "(39, 10304)\n",
            "(200, 10304)\n",
            "(200, 39)\n"
          ]
        }
      ],
      "source": [
        "print(projectionMatrix.shape)\n",
        "print(x_train.shape)\n",
        "x_trainProj = np.matmul(projectionMatrix, x_train.T).T\n",
        "x_testProj = np.matmul(projectionMatrix, x_test.T).T\n",
        "print(x_trainProj.shape)"
      ]
    },
    {
      "cell_type": "markdown",
      "id": "3pEdAy0Csm1n",
      "metadata": {
        "id": "3pEdAy0Csm1n"
      },
      "source": [
        "## 3. Use a simple classifier \n",
        "(first Nearest Neighbor to determine the class\n",
        "labels).\n"
      ]
    },
    {
      "cell_type": "code",
      "execution_count": null,
      "id": "Sldq8scdY8-T",
      "metadata": {
        "id": "Sldq8scdY8-T"
      },
      "outputs": [],
      "source": [
        "neighbours = [1,3,5,7]\n",
        "def LDATuning():\n",
        "  for i in neighbours:\n",
        "    knn = KNN(n_neighbors = i)\n",
        "    knn.fit(np.asarray(x_trainProj), y_train.ravel())\n",
        "    y_pred = knn.predict(np.asarray(x_testProj))\n",
        "    print(accuracy_score(y_pred, y_test.ravel()))"
      ]
    },
    {
      "cell_type": "code",
      "execution_count": null,
      "id": "EebzERBwu9a6",
      "metadata": {
        "colab": {
          "base_uri": "https://localhost:8080/"
        },
        "id": "EebzERBwu9a6",
        "outputId": "a4702f37-58ff-4f7e-dd9f-9e4141508c02"
      },
      "outputs": [
        {
          "name": "stdout",
          "output_type": "stream",
          "text": [
            "0.91\n",
            "0.85\n",
            "0.765\n",
            "0.675\n"
          ]
        }
      ],
      "source": [
        "LDATuning()"
      ]
    },
    {
      "cell_type": "markdown",
      "id": "8c57f741",
      "metadata": {
        "id": "8c57f741"
      },
      "source": [
        "# Draft"
      ]
    },
    {
      "cell_type": "code",
      "execution_count": null,
      "id": "2b9c5d21",
      "metadata": {
        "id": "2b9c5d21",
        "outputId": "90d62e5d-2d7c-4fb2-cbc3-28c9ddb2f93b"
      },
      "outputs": [
        {
          "data": {
            "text/plain": [
              "128.33821816770185"
            ]
          },
          "execution_count": 145,
          "metadata": {},
          "output_type": "execute_result"
        }
      ],
      "source": [
        "x_train = np.matrix(x_train)\n",
        "y_train = np.matrix(y_train)\n",
        "# compute the mean\n",
        "mean1 = x_train[0].mean()\n",
        "mean1"
      ]
    },
    {
      "cell_type": "code",
      "execution_count": null,
      "id": "1addc909",
      "metadata": {
        "id": "1addc909"
      },
      "outputs": [],
      "source": [
        "mean = x_train.mean(axis = 1)"
      ]
    },
    {
      "cell_type": "code",
      "execution_count": null,
      "id": "a9479fdf",
      "metadata": {
        "id": "a9479fdf",
        "outputId": "b8595ed8-2ce6-4db2-8292-491c82821811"
      },
      "outputs": [
        {
          "data": {
            "text/plain": [
              "matrix([[ 48,  49,  45, ...,  47,  46,  46],\n",
              "        [ 60,  60,  62, ...,  32,  34,  34],\n",
              "        [ 63,  53,  35, ...,  41,  10,  24],\n",
              "        ...,\n",
              "        [114, 110, 112, ...,  93,  89,  86],\n",
              "        [113, 112, 111, ...,  87,  87,  89],\n",
              "        [111, 114, 112, ...,  88,  86,  92]], dtype=uint8)"
            ]
          },
          "execution_count": 147,
          "metadata": {},
          "output_type": "execute_result"
        }
      ],
      "source": [
        "x_train"
      ]
    },
    {
      "cell_type": "code",
      "execution_count": null,
      "id": "24b88051",
      "metadata": {
        "id": "24b88051",
        "outputId": "49e02080-3f91-43ce-f881-0402b7ebab2f"
      },
      "outputs": [
        {
          "data": {
            "text/plain": [
              "matrix([[ -80.33821817,  -79.33821817,  -83.33821817, ...,  -81.33821817,\n",
              "          -82.33821817,  -82.33821817],\n",
              "        [ -87.98893634,  -87.98893634,  -85.98893634, ..., -115.98893634,\n",
              "         -113.98893634, -113.98893634],\n",
              "        [ -79.14926242,  -89.14926242, -107.14926242, ..., -101.14926242,\n",
              "         -132.14926242, -118.14926242],\n",
              "        ...,\n",
              "        [  -0.15130047,   -4.15130047,   -2.15130047, ...,  -21.15130047,\n",
              "          -25.15130047,  -28.15130047],\n",
              "        [  -1.60461957,   -2.60461957,   -3.60461957, ...,  -27.60461957,\n",
              "          -27.60461957,  -25.60461957],\n",
              "        [  -5.30619177,   -2.30619177,   -4.30619177, ...,  -28.30619177,\n",
              "          -30.30619177,  -24.30619177]])"
            ]
          },
          "execution_count": 148,
          "metadata": {},
          "output_type": "execute_result"
        }
      ],
      "source": [
        "x_train_cen = x_train - mean\n",
        "x_train_cen"
      ]
    },
    {
      "cell_type": "code",
      "execution_count": null,
      "id": "41849476",
      "metadata": {
        "id": "41849476",
        "outputId": "757977fa-4fee-40d7-c429-47c339cb5b58"
      },
      "outputs": [
        {
          "data": {
            "text/plain": [
              "matrix([[1976.34805901, 1960.26574729, 1969.31129174, ..., 1037.08246264,\n",
              "         1181.18927893, 1310.84550078],\n",
              "        [1960.26574729, 1959.59343556, 1962.30398001, ..., 1057.75015092,\n",
              "         1204.7469672 , 1326.33818906],\n",
              "        [1969.31129174, 1962.30398001, 1979.05952446, ..., 1048.89569537,\n",
              "         1203.27251165, 1330.21373351],\n",
              "        ...,\n",
              "        [1037.08246264, 1057.75015092, 1048.89569537, ..., 4275.79686627,\n",
              "         3921.82368256, 3816.33490441],\n",
              "        [1181.18927893, 1204.7469672 , 1203.27251165, ..., 3921.82368256,\n",
              "         3962.76549884, 3880.1317207 ],\n",
              "        [1310.84550078, 1326.33818906, 1330.21373351, ..., 3816.33490441,\n",
              "         3880.1317207 , 3979.69794255]])"
            ]
          },
          "execution_count": 149,
          "metadata": {},
          "output_type": "execute_result"
        }
      ],
      "source": [
        "cov = 1 / len(x_train_cen) * (np.dot(x_train_cen.T, x_train_cen))\n",
        "cov"
      ]
    },
    {
      "cell_type": "code",
      "execution_count": null,
      "id": "00ebf47d",
      "metadata": {
        "id": "00ebf47d",
        "outputId": "1faa4747-0ec9-4a4c-ef5f-a3686961285d"
      },
      "outputs": [
        {
          "data": {
            "text/plain": [
              "(10304, 10304)"
            ]
          },
          "execution_count": 150,
          "metadata": {},
          "output_type": "execute_result"
        }
      ],
      "source": [
        "cov.shape"
      ]
    },
    {
      "cell_type": "code",
      "execution_count": null,
      "id": "6f582da1",
      "metadata": {
        "id": "6f582da1",
        "outputId": "38d27f4e-98c6-4a6b-8372-92c0cf660534"
      },
      "outputs": [
        {
          "data": {
            "text/plain": [
              "array([-1.47865309e-09, -9.67008802e-10, -9.39322865e-10, ...,\n",
              "        1.09462153e+06,  2.49586831e+06,  1.03243713e+07])"
            ]
          },
          "execution_count": 151,
          "metadata": {},
          "output_type": "execute_result"
        }
      ],
      "source": [
        "eig_val, eig_vec = np.linalg.eigh(cov)\n",
        "eig_val"
      ]
    },
    {
      "cell_type": "code",
      "execution_count": null,
      "id": "4da0557c",
      "metadata": {
        "id": "4da0557c",
        "outputId": "63c4cd07-0ca7-439f-cccc-f37d0008aef3"
      },
      "outputs": [
        {
          "data": {
            "text/plain": [
              "matrix([[ 4.40999566e-13,  0.00000000e+00,  0.00000000e+00, ...,\n",
              "         -2.02077162e-02, -1.26709374e-02,  8.58581305e-03],\n",
              "        [ 2.39118447e-01, -1.18850190e-01,  2.50816148e-01, ...,\n",
              "         -2.01693608e-02, -1.26069511e-02,  8.63548751e-03],\n",
              "        [-2.73098009e-01,  2.33758767e-01, -8.76188788e-02, ...,\n",
              "         -2.03500603e-02, -1.28602767e-02,  8.54150292e-03],\n",
              "        ...,\n",
              "        [ 9.26977299e-03, -4.96540431e-03,  1.40951771e-02, ...,\n",
              "          9.62853691e-03, -2.51121222e-03,  1.28744880e-02],\n",
              "        [ 6.11347741e-03, -4.87901502e-05, -8.41145974e-04, ...,\n",
              "          7.10166309e-03, -2.96597121e-03,  1.35954397e-02],\n",
              "        [-1.43114475e-02, -2.73048956e-03, -9.79261541e-03, ...,\n",
              "          6.10567764e-03, -4.77243340e-03,  1.41162794e-02]])"
            ]
          },
          "execution_count": 152,
          "metadata": {},
          "output_type": "execute_result"
        }
      ],
      "source": [
        "eig_vec"
      ]
    },
    {
      "cell_type": "code",
      "execution_count": null,
      "id": "341c3033",
      "metadata": {
        "id": "341c3033"
      },
      "outputs": [],
      "source": [
        "fraction = []\n",
        "eig_sum=0\n",
        "eig_val_rev = eig_val[::-1]\n",
        "eig_vec_rev = eig_vec[::-1]\n",
        "\n",
        "for i in eig_val_rev :\n",
        "    eig_sum += i\n",
        "    fraction.append(eig_sum/eig_val_rev.sum())"
      ]
    },
    {
      "cell_type": "code",
      "execution_count": null,
      "id": "424a49da",
      "metadata": {
        "id": "424a49da",
        "outputId": "70154007-af45-4361-da3f-d40f2eeade04"
      },
      "outputs": [
        {
          "data": {
            "text/plain": [
              "10304"
            ]
          },
          "execution_count": 154,
          "metadata": {},
          "output_type": "execute_result"
        }
      ],
      "source": [
        "len(fraction)"
      ]
    },
    {
      "cell_type": "code",
      "execution_count": null,
      "id": "6d75781e",
      "metadata": {
        "id": "6d75781e",
        "outputId": "22dd9f46-1265-4cef-fb8b-0d5ad9ef34c9"
      },
      "outputs": [
        {
          "data": {
            "text/plain": [
              "1.0000000000000007"
            ]
          },
          "execution_count": 155,
          "metadata": {},
          "output_type": "execute_result"
        }
      ],
      "source": [
        "fraction[10303]"
      ]
    },
    {
      "cell_type": "code",
      "execution_count": null,
      "id": "4fd79597",
      "metadata": {
        "id": "4fd79597",
        "outputId": "8ef9b7bd-1efe-4a30-cdba-2298f51fc553"
      },
      "outputs": [
        {
          "name": "stdout",
          "output_type": "stream",
          "text": [
            "[0.43845898 0.54445437 0.59094114 ... 1.         1.         1.        ]\n"
          ]
        }
      ],
      "source": [
        "fraction = np.array(fraction)\n",
        "print(fraction)"
      ]
    },
    {
      "cell_type": "code",
      "execution_count": null,
      "id": "2d6019f5",
      "metadata": {
        "id": "2d6019f5",
        "outputId": "e6d2112d-428d-44f7-ec61-e610991ce2d4"
      },
      "outputs": [
        {
          "data": {
            "text/plain": [
              "array([False, False, False, ...,  True,  True,  True])"
            ]
          },
          "execution_count": 157,
          "metadata": {},
          "output_type": "execute_result"
        }
      ],
      "source": [
        "alpha = [0.8, 0.85, 0.9, 0.95]\n",
        "\n",
        "fraction_trimed = fraction > alpha[0]\n",
        "fraction_trimed"
      ]
    },
    {
      "cell_type": "code",
      "execution_count": null,
      "id": "b19fde82",
      "metadata": {
        "id": "b19fde82",
        "outputId": "6dbeaf6e-a5c1-417f-c257-9d74ef4c1b73"
      },
      "outputs": [
        {
          "data": {
            "text/plain": [
              "18"
            ]
          },
          "execution_count": 158,
          "metadata": {},
          "output_type": "execute_result"
        }
      ],
      "source": [
        "smallest_ind = 0\n",
        "\n",
        "for i in range(len(fraction_trimed)) :\n",
        "    if fraction_trimed[i] == True :\n",
        "        smallest_ind = i\n",
        "        break;\n",
        "\n",
        "smallest_ind"
      ]
    },
    {
      "cell_type": "code",
      "execution_count": null,
      "id": "7e5aca73",
      "metadata": {
        "id": "7e5aca73",
        "outputId": "d4adab0b-2aff-4eef-f821-69fa58867c41"
      },
      "outputs": [
        {
          "data": {
            "text/plain": [
              "matrix([[-1.43114475e-02, -2.73048956e-03, -9.79261541e-03, ...,\n",
              "          6.10567764e-03, -4.77243340e-03,  1.41162794e-02],\n",
              "        [ 6.11347741e-03, -4.87901502e-05, -8.41145974e-04, ...,\n",
              "          7.10166309e-03, -2.96597121e-03,  1.35954397e-02],\n",
              "        [ 9.26977299e-03, -4.96540431e-03,  1.40951771e-02, ...,\n",
              "          9.62853691e-03, -2.51121222e-03,  1.28744880e-02],\n",
              "        ...,\n",
              "        [ 5.02321565e-03, -7.07822858e-03, -1.24872236e-03, ...,\n",
              "          1.75339931e-02, -9.88204091e-03,  9.64316213e-03],\n",
              "        [-3.49250542e-03, -9.80585753e-04,  6.38016881e-03, ...,\n",
              "          1.79483112e-02, -8.50801606e-03,  9.31191296e-03],\n",
              "        [ 4.26091060e-03, -2.86357337e-03, -5.19720200e-03, ...,\n",
              "          1.34014312e-02, -7.67041412e-03,  9.26949872e-03]])"
            ]
          },
          "execution_count": 159,
          "metadata": {},
          "output_type": "execute_result"
        }
      ],
      "source": [
        "proj_mat = eig_vec_rev[:smallest_ind+1]\n",
        "proj_mat"
      ]
    },
    {
      "cell_type": "code",
      "execution_count": null,
      "id": "d2944189",
      "metadata": {
        "id": "d2944189",
        "outputId": "818ae3fd-448d-4ef2-81b8-f549fece66e8"
      },
      "outputs": [
        {
          "data": {
            "text/plain": [
              "(19, 10304)"
            ]
          },
          "execution_count": 160,
          "metadata": {},
          "output_type": "execute_result"
        }
      ],
      "source": [
        "proj_mat.shape"
      ]
    },
    {
      "cell_type": "code",
      "execution_count": null,
      "id": "bd3ad57c",
      "metadata": {
        "id": "bd3ad57c",
        "outputId": "c52e01b2-31f9-4112-97c6-1c8c76ae0adf"
      },
      "outputs": [
        {
          "data": {
            "text/plain": [
              "(200, 19)"
            ]
          },
          "execution_count": 161,
          "metadata": {},
          "output_type": "execute_result"
        }
      ],
      "source": [
        "x_train_proj = np.dot(x_train, proj_mat.T)\n",
        "x_test_proj = np.dot(x_test, proj_mat.T)\n",
        "x_train_proj.shape\n",
        "x_test_proj.shape"
      ]
    },
    {
      "cell_type": "code",
      "execution_count": null,
      "id": "dff3e1c1",
      "metadata": {
        "id": "dff3e1c1"
      },
      "outputs": [],
      "source": [
        "y_test = np.array(y_test)\n",
        "y_train = y_train.reshape(200,1)\n",
        "y_test = y_test.reshape(200,1)"
      ]
    },
    {
      "cell_type": "code",
      "execution_count": null,
      "id": "ae4433c6",
      "metadata": {
        "id": "ae4433c6",
        "outputId": "d5c72d9c-7173-4dfa-dbb8-babae4f1ca72"
      },
      "outputs": [
        {
          "name": "stdout",
          "output_type": "stream",
          "text": [
            "accuracy of alpha  = 0.8 and neighbours = 10 is 0.705\n"
          ]
        },
        {
          "name": "stderr",
          "output_type": "stream",
          "text": [
            "C:\\Users\\SourcesNet\\anaconda3\\lib\\site-packages\\sklearn\\utils\\validation.py:593: FutureWarning: np.matrix usage is deprecated in 1.0 and will raise a TypeError in 1.2. Please convert to a numpy array with np.asarray. For more information see: https://numpy.org/doc/stable/reference/generated/numpy.matrix.html\n",
            "  warnings.warn(\n",
            "C:\\Users\\SourcesNet\\anaconda3\\lib\\site-packages\\sklearn\\utils\\validation.py:593: FutureWarning: np.matrix usage is deprecated in 1.0 and will raise a TypeError in 1.2. Please convert to a numpy array with np.asarray. For more information see: https://numpy.org/doc/stable/reference/generated/numpy.matrix.html\n",
            "  warnings.warn(\n",
            "C:\\Users\\SourcesNet\\anaconda3\\lib\\site-packages\\sklearn\\neighbors\\_classification.py:198: DataConversionWarning: A column-vector y was passed when a 1d array was expected. Please change the shape of y to (n_samples,), for example using ravel().\n",
            "  return self._fit(X, y)\n",
            "C:\\Users\\SourcesNet\\anaconda3\\lib\\site-packages\\sklearn\\utils\\validation.py:593: FutureWarning: np.matrix usage is deprecated in 1.0 and will raise a TypeError in 1.2. Please convert to a numpy array with np.asarray. For more information see: https://numpy.org/doc/stable/reference/generated/numpy.matrix.html\n",
            "  warnings.warn(\n"
          ]
        }
      ],
      "source": [
        "knn = KNN(n_neighbors = 1)\n",
        "knn.fit(x_train_proj, y_train)\n",
        "y_pred = knn.predict(x_test_proj)\n",
        "print(\"accuracy of alpha  = 0.8 and neighbours = 10 is\", accuracy_score(y_pred, y_test))"
      ]
    },
    {
      "cell_type": "markdown",
      "source": [
        "# 7. Compare vs Non-Face Images (15 Points)\n",
        "\n",
        "---\n",
        "\n"
      ],
      "metadata": {
        "id": "HSgAD_LTXQcp"
      },
      "id": "HSgAD_LTXQcp"
    },
    {
      "cell_type": "markdown",
      "source": [
        "## Download non-face images and make them of the same size 92x112"
      ],
      "metadata": {
        "id": "GpjzPeb1XV7G"
      },
      "id": "GpjzPeb1XV7G"
    },
    {
      "cell_type": "code",
      "execution_count": null,
      "metadata": {
        "colab": {
          "base_uri": "https://localhost:8080/"
        },
        "id": "RDqPkf_vR2Fo",
        "outputId": "cd21da40-bba5-4a0b-877c-fbf1641796d8"
      },
      "outputs": [
        {
          "name": "stderr",
          "output_type": "stream",
          "text": [
            "100%|██████████| 7/7 [01:57<00:00, 16.80s/it]\n"
          ]
        }
      ],
      "source": [
        "from PIL import Image\n",
        "new_width = 92\n",
        "new_height = 112\n",
        "non_face_features = []\n",
        "\n",
        "non_face_images_path = path + '/drive/MyDrive' + '/non-face_images'\n",
        "\n",
        "def import_non_face_images_resized(non_face_images_path):\n",
        "    for i in tqdm(os.listdir(non_face_images_path)) :\n",
        "        class_path = non_face_images_path + '/' + i\n",
        "        for j in os.listdir(class_path) :\n",
        "            image_path = os.path.join(class_path, j)            \n",
        "            # image = Image.open(image_path).convert('L')\n",
        "            # resized_image = image.resize((new_width, new_height))\n",
        "            # resized_image.save(image_path)\n",
        "            img = plt.imread(image_path)\n",
        "            non_face_features.append(img)\n",
        "    return non_face_features\n",
        "        \n",
        "    \n",
        "non_face_features = import_non_face_images_resized(non_face_images_path)\n",
        "# reshape the images to be of size 10304\n",
        "non_face_features = flatten_images(non_face_features[:100])\n",
        "non_face_features = np.asarray(non_face_features)"
      ],
      "id": "RDqPkf_vR2Fo"
    },
    {
      "cell_type": "code",
      "execution_count": null,
      "metadata": {
        "id": "XTDO7UmRu9QE"
      },
      "outputs": [],
      "source": [
        "# Join the faces with the non faces images into one array\n",
        "def join_faces_with_non_faces(number_of_non_face_images):\n",
        "    D = np.concatenate((np.array(non_face_features[ : number_of_non_face_images, :]), x_features), axis = 0)\n",
        "    D_labels = np.concatenate((np.zeros((number_of_non_face_images, 1)), np.ones((400, 1))), axis=0)\n",
        "    return D, D_labels"
      ],
      "id": "XTDO7UmRu9QE"
    },
    {
      "cell_type": "code",
      "execution_count": null,
      "metadata": {
        "id": "ZYhCp8s81V8W"
      },
      "outputs": [],
      "source": [
        "def convert_to_numpy_arrays(D_train, D_test, D_labels_train, D_labels_test):\n",
        "    D_train = np.asarray(D_train)\n",
        "    D_labels_train = np.asarray(D_labels_train)\n",
        "    D_test = np.asarray(D_test)\n",
        "    D_labels_test = np.asarray(D_labels_test)\n",
        "    new_unique_classes = np.unique(D_labels_train)\n",
        "    return D_train, D_labels_train, D_test, D_labels_test, new_unique_classes"
      ],
      "id": "ZYhCp8s81V8W"
    },
    {
      "cell_type": "code",
      "execution_count": null,
      "metadata": {
        "id": "vRJ4Np5127bW"
      },
      "outputs": [],
      "source": [
        "def find_mean_vector(D_train, D_labels_train, new_unique_classes):\n",
        "    new_mean_vectors = []\n",
        "    new_each_class_indices = []\n",
        "    for i in range(len(new_unique_classes)):\n",
        "        indices = np.where(D_labels_train == new_unique_classes[i])\n",
        "        array = np.asarray(D_train[indices[0], :])\n",
        "        new_mean_vectors.append(np.mean(array, axis=0))\n",
        "        new_each_class_indices.append( indices[0])\n",
        "    new_mean_vectors = np.asarray(new_mean_vectors)\n",
        "    return new_mean_vectors, new_each_class_indices"
      ],
      "id": "vRJ4Np5127bW"
    },
    {
      "cell_type": "code",
      "execution_count": null,
      "metadata": {
        "id": "DS4eeZhQ4b2w"
      },
      "outputs": [],
      "source": [
        "def calc_eigen_values_and_eigen_vectors(new_each_class_indices, new_unique_classes, new_mean_vectors, new_over_all_mean):\n",
        "    new_sb = np.zeros([10304,10304])\n",
        "    new_nk = len(new_each_class_indices[0])\n",
        "    for i in range(len(new_unique_classes)):\n",
        "        centered = np.asmatrix(new_mean_vectors[i] - new_over_all_mean)\n",
        "        new_sb += (new_nk * np.matmul(centered.T , centered) )\n",
        "    new_s = np.zeros([10304,10304])\n",
        "    for j in range(len(new_each_class_indices)):\n",
        "        D_temp = np.asarray(D_train[new_each_class_indices[j], :])\n",
        "        z = np.asarray(D_temp) - new_mean_vectors[j]\n",
        "        new_s += np.matmul(z.T , z)\n",
        "    new_s = np.asmatrix(new_s)\n",
        "    new_sInv = np.linalg.inv(new_s)\n",
        "    new_eignValues, new_eignVectors = np.linalg.eigh(np.matmul(new_sInv, new_sb))\n",
        "    new_idx = np.asmatrix(new_eignValues.argsort())\n",
        "    new_idx = np.flip(new_idx)\n",
        "\n",
        "    new_eignValues = new_eignValues[new_idx]\n",
        "    new_eignVectors = new_eignVectors[new_idx,:].reshape(10304, 10304).T\n",
        "    return new_eignVectors"
      ],
      "id": "DS4eeZhQ4b2w"
    },
    {
      "cell_type": "code",
      "execution_count": null,
      "metadata": {
        "id": "-rlUuWLK6Yfd"
      },
      "outputs": [],
      "source": [
        "new_neighbours = [1,3,5,7]\n",
        "def new_LDATuning(D_train, D_test, index_of_last_dominant_eigen_vector, new_eignVectors):\n",
        "    new_projectionMatrix  = np.asmatrix(new_eignVectors[0:index_of_last_dominant_eigen_vector,:])\n",
        "    D_trainProj = np.matmul(new_projectionMatrix, D_train.T).T\n",
        "    D_testProj = np.matmul(new_projectionMatrix, D_test.T).T\n",
        "    knn = KNN(n_neighbors = 1)\n",
        "    knn.fit(np.asarray(D_trainProj), D_labels_train.ravel())\n",
        "    D_labels_pred = knn.predict(np.asarray(D_testProj))\n",
        "    accuracy = accuracy_score(D_labels_pred, D_labels_test.ravel())\n",
        "    precision = precision_score(D_labels_pred, D_labels_test.ravel(), average = 'weighted')\n",
        "    recall = recall_score(D_labels_pred, D_labels_test.ravel(), average = 'weighted')\n",
        "    f1 = f1_score(D_labels_pred, D_labels_test.ravel(), average = 'weighted')\n",
        "    return accuracy, precision, recall, f1"
      ],
      "id": "-rlUuWLK6Yfd"
    },
    {
      "cell_type": "code",
      "execution_count": null,
      "metadata": {
        "colab": {
          "base_uri": "https://localhost:8080/"
        },
        "id": "GBEQAZBf6x2w",
        "outputId": "6c1fa926-5309-4bcb-97b6-6a1414a3a854"
      },
      "outputs": [
        {
          "name": "stdout",
          "output_type": "stream",
          "text": [
            "Accuracy:  0.9422222222222222\n",
            "Accuracy:  0.956\n",
            "Accuracy:  0.952\n",
            "Accuracy:  0.948\n",
            "Accuracy:  0.936\n",
            "Accuracy:  0.928\n",
            "Accuracy:  0.928\n",
            "Accuracy:  0.956\n"
          ]
        }
      ],
      "source": [
        "# Plot the accuracy vs the number of non-faces images while fixing the number of face images.\n",
        "accuracy_list = []\n",
        "precision_list = []\n",
        "recall_list = []\n",
        "f1_list = []\n",
        "\n",
        "for i in range(50, 401, 50):\n",
        "    D, D_labels = join_faces_with_non_faces(i)\n",
        "    # Split the data even and odd\n",
        "    D_train, D_test, D_labels_train, D_labels_test = split_data_even_odd(D, D_labels)\n",
        "    D_train, D_labels_train, D_test, D_labels_test, new_unique_classes = convert_to_numpy_arrays(D_train, D_test, D_labels_train, D_labels_test)\n",
        "    new_mean_vectors, new_each_class_indices = find_mean_vector(D_train, D_labels_train, new_unique_classes)\n",
        "    new_over_all_mean = np.mean(D_train, axis=0)\n",
        "    new_eignVectors = calc_eigen_values_and_eigen_vectors(new_each_class_indices, new_unique_classes, new_mean_vectors, new_over_all_mean)\n",
        "    accuracy, precision, recall, f1 = new_LDATuning(D_train, D_test, 39, new_eignVectors)\n",
        "    accuracy_list.append(accuracy)\n",
        "    precision_list.append(precision)\n",
        "    recall_list.append(recall)\n",
        "    f1_list.append(f1)\n",
        "    print(\"Accuracy: \", accuracy)"
      ],
      "id": "GBEQAZBf6x2w"
    },
    {
      "cell_type": "code",
      "execution_count": null,
      "metadata": {
        "colab": {
          "base_uri": "https://localhost:8080/",
          "height": 279
        },
        "id": "UubuO91rFGMX",
        "outputId": "665dbdde-4ed4-42cf-ab68-2f73db3e98df"
      },
      "outputs": [
        {
          "data": {
            "image/png": "[encoded data removed]",
            "text/plain": [
              "<Figure size 432x288 with 1 Axes>"
            ]
          },
          "metadata": {},
          "output_type": "display_data"
        }
      ],
      "source": [
        "plt.figure()\n",
        "plt.plot(np.arange(50, 401, 50), accuracy_list)\n",
        "plt.xlabel('number of non-face images')\n",
        "plt.ylabel('accuracy')\n",
        "plt.show()"
      ],
      "id": "UubuO91rFGMX"
    },
    {
      "cell_type": "code",
      "execution_count": null,
      "metadata": {
        "colab": {
          "base_uri": "https://localhost:8080/",
          "height": 279
        },
        "id": "fRpZjaprvL6s",
        "outputId": "0ebf6d55-d547-4221-df42-89e52a48660c"
      },
      "outputs": [
        {
          "data": {
            "image/png": "[encoded data removed]",
            "text/plain": [
              "<Figure size 432x288 with 1 Axes>"
            ]
          },
          "metadata": {},
          "output_type": "display_data"
        }
      ],
      "source": [
        "plt.figure()\n",
        "plt.plot(np.arange(50, 401, 50), precision_list)\n",
        "plt.xlabel('number of non-face images')\n",
        "plt.ylabel('precision')\n",
        "plt.show()"
      ],
      "id": "fRpZjaprvL6s"
    },
    {
      "cell_type": "code",
      "execution_count": null,
      "metadata": {
        "colab": {
          "base_uri": "https://localhost:8080/",
          "height": 279
        },
        "id": "0ps_zvM8vLz5",
        "outputId": "69065430-548d-467c-c301-3bbe358e8b9b"
      },
      "outputs": [
        {
          "data": {
            "image/png": "[encoded data removed]",
            "text/plain": [
              "<Figure size 432x288 with 1 Axes>"
            ]
          },
          "metadata": {},
          "output_type": "display_data"
        }
      ],
      "source": [
        "plt.figure()\n",
        "plt.plot(np.arange(50, 401, 50), recall_list)\n",
        "plt.xlabel('number of non-face images')\n",
        "plt.ylabel('recall')\n",
        "plt.show()"
      ],
      "id": "0ps_zvM8vLz5"
    },
    {
      "cell_type": "code",
      "execution_count": null,
      "metadata": {
        "colab": {
          "base_uri": "https://localhost:8080/",
          "height": 279
        },
        "id": "gKBRmArEvLqh",
        "outputId": "46c17def-9d7e-4641-d03d-4828333f5ed3"
      },
      "outputs": [
        {
          "data": {
            "image/png": "[encoded data removed]",
            "text/plain": [
              "<Figure size 432x288 with 1 Axes>"
            ]
          },
          "metadata": {},
          "output_type": "display_data"
        }
      ],
      "source": [
        "plt.figure()\n",
        "plt.plot(np.arange(50, 401, 50), f1_list)\n",
        "plt.xlabel('number of non-face images')\n",
        "plt.ylabel('f1')\n",
        "plt.show()"
      ],
      "id": "gKBRmArEvLqh"
    },
    {
      "cell_type": "markdown",
      "metadata": {
        "id": "mM3FIUaTuZJs"
      },
      "source": [
        "#  Criticize the accuracy measure for large numbers of non-faces images in the training data."
      ],
      "id": "mM3FIUaTuZJs"
    },
    {
      "cell_type": "markdown",
      "metadata": {
        "id": "Hr5iqodGueyl"
      },
      "source": [
        "As we saw from the plot, the accuracy decreases when we increase the size of the non-face images whlile fixing the number of face images."
      ],
      "id": "Hr5iqodGueyl"
    },
    {
      "cell_type": "code",
      "execution_count": null,
      "metadata": {
        "colab": {
          "background_save": true
        },
        "id": "8fwHeq3N7SxG",
        "outputId": "1d4a4117-22c6-4afe-f439-3026f43b3a59"
      },
      "outputs": [
        {
          "name": "stdout",
          "output_type": "stream",
          "text": [
            "accuracy of neighbours = 1 is 0.956\n",
            "precision of neighbours = 1 is 0.95638\n",
            "recall of neighbours = 1 is 0.956\n",
            "f1 score of neighbours = 1 is 0.9561673593793296\n",
            "Success case: \n",
            "Actual Classification: [0.]\n",
            "Pred Classification: 0.0\n",
            "Failure case: \n",
            "Actual Classification: [0.]\n",
            "Pred Classification: 1.0\n",
            "----------------------------------------------------------------------------------------------------\n",
            "accuracy of neighbours = 3 is 0.936\n",
            "precision of neighbours = 3 is 0.93872\n",
            "recall of neighbours = 3 is 0.936\n",
            "f1 score of neighbours = 3 is 0.9370165016501648\n",
            "Success case: \n",
            "Actual Classification: [0.]\n",
            "Pred Classification: 0.0\n",
            "Failure case: \n",
            "Actual Classification: [0.]\n",
            "Pred Classification: 1.0\n",
            "----------------------------------------------------------------------------------------------------\n",
            "accuracy of neighbours = 5 is 0.928\n",
            "precision of neighbours = 5 is 0.93304\n",
            "recall of neighbours = 5 is 0.928\n",
            "f1 score of neighbours = 5 is 0.929765852635992\n",
            "Success case: \n",
            "Actual Classification: [0.]\n",
            "Pred Classification: 0.0\n",
            "Failure case: \n",
            "Actual Classification: [0.]\n",
            "Pred Classification: 1.0\n",
            "----------------------------------------------------------------------------------------------------\n",
            "accuracy of neighbours = 7 is 0.9\n",
            "precision of neighbours = 7 is 0.9143\n",
            "recall of neighbours = 7 is 0.9\n",
            "f1 score of neighbours = 7 is 0.9048415757675168\n",
            "Success case: \n",
            "Actual Classification: [0.]\n",
            "Pred Classification: 0.0\n",
            "Failure case: \n",
            "Actual Classification: [0.]\n",
            "Pred Classification: 1.0\n",
            "----------------------------------------------------------------------------------------------------\n"
          ]
        }
      ],
      "source": [
        "# Use 39 dominant eigen vectors\n",
        "D, D_labels = join_faces_with_non_faces(400)\n",
        "# Split the data even and odd\n",
        "D_train, D_test, D_labels_train, D_labels_test = split_data_even_odd(D, D_labels)\n",
        "D_train, D_labels_train, D_test, D_labels_test, new_unique_classes = convert_to_numpy_arrays(D_train, D_test, D_labels_train, D_labels_test)\n",
        "new_mean_vectors, new_each_class_indices = find_mean_vector(D_train, D_labels_train, new_unique_classes)\n",
        "new_over_all_mean = np.mean(D_train, axis=0)\n",
        "new_eignVectors = calc_eigen_values_and_eigen_vectors(new_each_class_indices, new_unique_classes, new_mean_vectors, new_over_all_mean)\n",
        "new_neighbours = [1,3,5,7]\n",
        "new_projectionMatrix  = np.asmatrix(new_eignVectors[0:39,:])\n",
        "D_trainProj = np.matmul(new_projectionMatrix, D_train.T).T\n",
        "D_testProj = np.matmul(new_projectionMatrix, D_test.T).T\n",
        "for i in new_neighbours:\n",
        "    knn = KNN(n_neighbors = i)\n",
        "    knn.fit(np.asarray(D_trainProj), D_labels_train.ravel())\n",
        "    D_labels_pred = knn.predict(np.asarray(D_testProj))\n",
        "    print(\"accuracy of neighbours =\", i,\"is\", accuracy_score(D_labels_pred, D_labels_test.ravel()))\n",
        "    print(\"precision of neighbours =\", i,\"is\", precision_score(D_labels_pred, D_labels_test.ravel(), average = 'weighted'))\n",
        "    print(\"recall of neighbours =\", i,\"is\", recall_score(D_labels_pred, D_labels_test.ravel(), average = 'weighted'))\n",
        "    print(\"f1 score of neighbours =\", i,\"is\", f1_score(D_labels_pred, D_labels_test.ravel(), average = 'weighted'))\n",
        "    success_case_found, failure_case_found = False, False\n",
        "    for i in range(len(D_testProj)):\n",
        "        if success_case_found and failure_case_found:\n",
        "            break\n",
        "        if not success_case_found and D_labels_pred[i] == D_labels_test[i]:\n",
        "            success_case_found = True\n",
        "            print(\"Success case: \")\n",
        "            print(\"Actual Classification:\", D_labels_test[i])\n",
        "            print(\"Pred Classification:\", D_labels_pred[i])\n",
        "        if not failure_case_found and D_labels_pred[i] != D_labels_test[i]:\n",
        "                failure_case_found = True\n",
        "                print(\"Failure case: \")\n",
        "                print(\"Actual Classification:\", D_labels_test[i])\n",
        "                print(\"Pred Classification:\", D_labels_pred[i])\n",
        "    print('-' * 100)        "
      ],
      "id": "8fwHeq3N7SxG"
    },
    {
      "cell_type": "code",
      "execution_count": null,
      "metadata": {
        "id": "Xmx_3ug0HHTv"
      },
      "outputs": [],
      "source": [],
      "id": "Xmx_3ug0HHTv"
    },
    {
      "cell_type": "markdown",
      "source": [],
      "metadata": {
        "id": "Gz03Ooy6XFT2"
      },
      "id": "Gz03Ooy6XFT2"
    }
  ],
  "metadata": {
    "colab": {
      "collapsed_sections": [
        "9361de62",
        "65aa5930",
        "3d5907e9",
        "8c57f741"
      ],
      "provenance": []
    },
    "kernelspec": {
      "display_name": "Python 3",
      "language": "python",
      "name": "python3"
    },
    "language_info": {
      "codemirror_mode": {
        "name": "ipython",
        "version": 3
      },
      "file_extension": ".py",
      "mimetype": "text/x-python",
      "name": "python",
      "nbconvert_exporter": "python",
      "pygments_lexer": "ipython3",
      "version": "3.8.8"
    }
  },
  "nbformat": 4,
  "nbformat_minor": 5
}